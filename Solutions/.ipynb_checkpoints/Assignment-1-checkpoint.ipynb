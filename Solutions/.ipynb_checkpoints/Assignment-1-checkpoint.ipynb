{
 "cells": [
  {
   "cell_type": "markdown",
   "metadata": {},
   "source": [
    "# ACM20030 - Assignment 1"
   ]
  },
  {
   "cell_type": "markdown",
   "metadata": {},
   "source": [
    "## Question 0\n",
    "[2 marks] - for making a git repository. You can tell if they did this by checking for the README file and/or the .git directory"
   ]
  },
  {
   "cell_type": "code",
   "execution_count": 4,
   "metadata": {},
   "outputs": [],
   "source": [
    "import numpy as np\n",
    "import matplotlib.pyplot as plt"
   ]
  },
  {
   "cell_type": "markdown",
   "metadata": {},
   "source": [
    "## Question 1\n",
    "Total marks: 5 with breakdown:  \n",
    "1a - 2 marks  \n",
    "1b - 1 mark  \n",
    "1c - 2 marks  "
   ]
  },
  {
   "cell_type": "code",
   "execution_count": 4,
   "metadata": {},
   "outputs": [],
   "source": [
    "# Q1a\n",
    "def VectorLength(x, y):\n",
    "    return np.sqrt(x**2 + y**2)"
   ]
  },
  {
   "cell_type": "code",
   "execution_count": 5,
   "metadata": {},
   "outputs": [
    {
     "name": "stdout",
     "output_type": "stream",
     "text": [
      "7.810249675906654\n",
      "5.0990195135927845\n"
     ]
    }
   ],
   "source": [
    "# Question 1b\n",
    "print(VectorLength(5,6))\n",
    "print(VectorLength(-1,5))"
   ]
  },
  {
   "cell_type": "code",
   "execution_count": 7,
   "metadata": {},
   "outputs": [
    {
     "name": "stdout",
     "output_type": "stream",
     "text": [
      "Sin(1) = 0.841\n"
     ]
    }
   ],
   "source": [
    "# Question 1c\n",
    "print(\"Sin(1) = %.3f\" % np.sin(1))"
   ]
  },
  {
   "cell_type": "markdown",
   "metadata": {},
   "source": [
    "## Question 2\n",
    "Totals marks 13 with breakdown:  \n",
    "2a - 1 mark  \n",
    "2b - 1 marks  \n",
    "2c - 2 marks  \n",
    "2d - 0 marks  \n",
    "2e - 3 marks  \n",
    "2f - 3 marks  \n",
    "2g - 3 marks  \n",
    "2h - 0 marks  "
   ]
  },
  {
   "cell_type": "code",
   "execution_count": 27,
   "metadata": {},
   "outputs": [],
   "source": [
    "# Question 2a\n",
    "def IsPrime(n):\n",
    "    i = 2\n",
    "    while i < np.sqrt(n):\n",
    "        # For each i check if it divides n\n",
    "        if(n % i == 0):\n",
    "            return 0\n",
    "        i += 1\n",
    "    # If no divisors are found, the number is prime\n",
    "    return 1"
   ]
  },
  {
   "cell_type": "code",
   "execution_count": 28,
   "metadata": {},
   "outputs": [
    {
     "name": "stdout",
     "output_type": "stream",
     "text": [
      "IsPrime(1) = =1\n",
      "IsPrime(2) = =1\n",
      "IsPrime(3) = =1\n",
      "IsPrime(4) = =1\n",
      "IsPrime(5) = =1\n",
      "IsPrime(6) = =0\n",
      "IsPrime(7) = =1\n",
      "IsPrime(8) = =0\n",
      "IsPrime(9) = =1\n"
     ]
    }
   ],
   "source": [
    "for n in np.arange(1,10):\n",
    "    print(\"IsPrime(%d) = =%d\" % (n,IsPrime(n)))\n",
    "# The function does not work correctly as it thinks 9 is prime"
   ]
  },
  {
   "cell_type": "code",
   "execution_count": 29,
   "metadata": {},
   "outputs": [],
   "source": [
    "# Question 2b\n",
    "def IsPrime(n):\n",
    "    if(n == 1):\n",
    "        return 0\n",
    "    i = 2\n",
    "    while i < np.sqrt(n):\n",
    "        # For each i check if it divides n\n",
    "        if(n % i == 0):\n",
    "            return 0\n",
    "        i += 1\n",
    "    # If no divisors are found, the number is prime\n",
    "    return 1"
   ]
  },
  {
   "cell_type": "code",
   "execution_count": 30,
   "metadata": {},
   "outputs": [
    {
     "name": "stdout",
     "output_type": "stream",
     "text": [
      "IsPrime(1) = =0\n",
      "IsPrime(2) = =1\n",
      "IsPrime(3) = =1\n",
      "IsPrime(4) = =1\n",
      "IsPrime(5) = =1\n",
      "IsPrime(6) = =0\n",
      "IsPrime(7) = =1\n",
      "IsPrime(8) = =0\n",
      "IsPrime(9) = =1\n"
     ]
    }
   ],
   "source": [
    "for n in np.arange(1,10):\n",
    "    print(\"IsPrime(%d) = =%d\" % (n,IsPrime(n)))"
   ]
  },
  {
   "cell_type": "code",
   "execution_count": 19,
   "metadata": {},
   "outputs": [],
   "source": [
    "# Question 2c\n",
    "# the < should have been a <="
   ]
  },
  {
   "cell_type": "code",
   "execution_count": 23,
   "metadata": {},
   "outputs": [
    {
     "name": "stdout",
     "output_type": "stream",
     "text": [
      "169\n"
     ]
    }
   ],
   "source": [
    "# Question 2e\n",
    "i = 1\n",
    "prime_count = 0\n",
    "while i <= 1000:\n",
    "    prime_count += IsPrime(i)\n",
    "    i += 1\n",
    "print(prime_count)"
   ]
  },
  {
   "cell_type": "code",
   "execution_count": 24,
   "metadata": {},
   "outputs": [],
   "source": [
    "def PrimeCount(x):\n",
    "    i = 1\n",
    "    prime_count = 0\n",
    "    while i <= x:\n",
    "        prime_count += IsPrime(i)\n",
    "        i += 1\n",
    "    return prime_count\n",
    "    "
   ]
  },
  {
   "cell_type": "code",
   "execution_count": 29,
   "metadata": {},
   "outputs": [
    {
     "name": "stdout",
     "output_type": "stream",
     "text": [
      "169\n",
      "1230\n"
     ]
    }
   ],
   "source": [
    "print(PrimeCount(1000))\n",
    "print(PrimeCount(10000))\n"
   ]
  },
  {
   "cell_type": "code",
   "execution_count": 85,
   "metadata": {},
   "outputs": [],
   "source": [
    "# Question 2g\n",
    "x = np.arange(0,40,1)\n",
    "Pi = np.zeros(40)\n",
    "i = 0\n",
    "while i < np.size(Pi):\n",
    "    Pi[i] = PrimeCount(i)\n",
    "    i += 1"
   ]
  },
  {
   "cell_type": "code",
   "execution_count": 88,
   "metadata": {},
   "outputs": [
    {
     "data": {
      "text/plain": [
       "[<matplotlib.lines.Line2D at 0x113139910>]"
      ]
     },
     "execution_count": 88,
     "metadata": {},
     "output_type": "execute_result"
    },
    {
     "data": {
      "image/png": "[encoded data removed]",
      "text/plain": [
       "<Figure size 432x288 with 1 Axes>"
      ]
     },
     "metadata": {
      "needs_background": "light"
     },
     "output_type": "display_data"
    }
   ],
   "source": [
    "plt.grid(True)\n",
    "plt.plot(x, Pi,'ro')"
   ]
  },
  {
   "cell_type": "code",
   "execution_count": 95,
   "metadata": {},
   "outputs": [
    {
     "data": {
      "text/plain": [
       "[<matplotlib.lines.Line2D at 0x112ae0250>]"
      ]
     },
     "execution_count": 95,
     "metadata": {},
     "output_type": "execute_result"
    },
    {
     "data": {
      "image/png": "[encoded data removed]",
      "text/plain": [
       "<Figure size 432x288 with 1 Axes>"
      ]
     },
     "metadata": {
      "needs_background": "light"
     },
     "output_type": "display_data"
    }
   ],
   "source": [
    "# Bonus question\n",
    "vPrimeCount = np.vectorize(PrimeCount)\n",
    "plt.plot(n, vPrimeCount(n), 'ro')"
   ]
  },
  {
   "cell_type": "markdown",
   "metadata": {},
   "source": [
    "## Question 3\n",
    "Total marks 10 with breakdown:  \n",
    "3a - 0 marks  \n",
    "3b - 2 marks  \n",
    "3c - 4 marks  \n",
    "3d - 2 marks  \n",
    "3e - 2 marks  \n",
    "3f - 0 marks  "
   ]
  },
  {
   "cell_type": "code",
   "execution_count": 100,
   "metadata": {},
   "outputs": [],
   "source": [
    "# Q3b\n",
    "data = np.loadtxt(\"/Users/niels/Teaching/ACM20030/PythonExamples/data/PowerLawOrExponential.txt\")\n",
    "x = data[:,0]\n",
    "y = data[:,1]"
   ]
  },
  {
   "cell_type": "code",
   "execution_count": 105,
   "metadata": {},
   "outputs": [
    {
     "data": {
      "text/plain": [
       "[<matplotlib.lines.Line2D at 0x11369cad0>]"
      ]
     },
     "execution_count": 105,
     "metadata": {},
     "output_type": "execute_result"
    },
    {
     "data": {
      "image/png": "[encoded data removed]",
      "text/plain": [
       "<Figure size 432x288 with 1 Axes>"
      ]
     },
     "metadata": {
      "needs_background": "light"
     },
     "output_type": "display_data"
    }
   ],
   "source": [
    "# Q3c\n",
    "plt.grid(True)\n",
    "plt.xlabel('x')\n",
    "plt.ylabel('log(y)')\n",
    "plt.plot(x,np.log(y))"
   ]
  },
  {
   "cell_type": "code",
   "execution_count": 104,
   "metadata": {},
   "outputs": [
    {
     "data": {
      "text/plain": [
       "[<matplotlib.lines.Line2D at 0x113560090>]"
      ]
     },
     "execution_count": 104,
     "metadata": {},
     "output_type": "execute_result"
    },
    {
     "data": {
      "image/png": "[encoded data removed]",
      "text/plain": [
       "<Figure size 432x288 with 1 Axes>"
      ]
     },
     "metadata": {
      "needs_background": "light"
     },
     "output_type": "display_data"
    }
   ],
   "source": [
    "plt.grid(True)\n",
    "plt.xlabel('log(x)')\n",
    "plt.ylabel('log(y)')\n",
    "plt.plot(np.log(x),np.log(y))"
   ]
  },
  {
   "cell_type": "code",
   "execution_count": 106,
   "metadata": {},
   "outputs": [],
   "source": [
    "# Question 3d\n",
    "# The data shows x**n. This is clear from the straight line on the log-log plot."
   ]
  },
  {
   "cell_type": "code",
   "execution_count": 107,
   "metadata": {},
   "outputs": [],
   "source": [
    "# Question 3e\n",
    "# The value of n is 2"
   ]
  }
 ],
 "metadata": {
  "kernelspec": {
   "display_name": "Python 3",
   "language": "python",
   "name": "python3"
  },
  "language_info": {
   "codemirror_mode": {
    "name": "ipython",
    "version": 3
   },
   "file_extension": ".py",
   "mimetype": "text/x-python",
   "name": "python",
   "nbconvert_exporter": "python",
   "pygments_lexer": "ipython3",
   "version": "3.7.1"
  }
 },
 "nbformat": 4,
 "nbformat_minor": 2
}
