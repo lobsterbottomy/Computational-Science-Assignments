{
 "cells": [
  {
   "cell_type": "markdown",
   "metadata": {},
   "source": [
    "# Assignment 2\n",
    "This is due by 5pm on Friday 21st February. The mark breakdown is:\n",
    "\n",
    "- Q0 [1 marks]\n",
    "- Q1 [10 marks]\n",
    "- Q2 [10 marks]\n",
    "- Q3 [9 marks]\n",
    "\n",
    "It is adviseable that you tidy up your notebook before submitting the final version. Also, remember to add comments to your code."
   ]
  },
  {
   "cell_type": "markdown",
   "metadata": {},
   "source": [
    "# Question 0\n",
    "\n",
    "You should have saved this notebook to your ACM20030-Assignments folder. Now:\n",
    "- commit the notebook to your local repository\n",
    "- push the changes to the GitHub"
   ]
  },
  {
   "cell_type": "code",
   "execution_count": 1,
   "metadata": {},
   "outputs": [],
   "source": [
    "import numpy as np\n",
    "import matplotlib.pyplot as plt\n",
    "\n",
    "# The below commands make the font and image size bigger\n",
    "plt.rcParams.update({'font.size': 22})\n",
    "plt.rcParams[\"figure.figsize\"] = (15,10)"
   ]
  },
  {
   "cell_type": "markdown",
   "metadata": {},
   "source": [
    "# Question 1: Bisection method"
   ]
  },
  {
   "cell_type": "markdown",
   "metadata": {},
   "source": [
    "### Q. 1a\n",
    "Define a function for the quintic $f(x) = x^5+12 x^4-15 x^3-386 x^2-180 x+1800$ and plot it in the range $x=-11\\dots6$"
   ]
  },
  {
   "cell_type": "code",
   "execution_count": 2,
   "metadata": {
    "scrolled": true
   },
   "outputs": [
    {
     "data": {
      "text/plain": [
       "Text(0, 0.5, 'f(x)')"
      ]
     },
     "execution_count": 2,
     "metadata": {},
     "output_type": "execute_result"
    },
    {
     "data": {
      "image/png": "[encoded data removed]",
      "text/plain": [
       "<Figure size 432x288 with 1 Axes>"
      ]
     },
     "metadata": {
      "needs_background": "light"
     },
     "output_type": "display_data"
    }
   ],
   "source": [
    "def f(x):\n",
    "    return ((x**5)+12*(x**4)-15*(x**3)-386*(x**2)-(180*x)+1800)\n",
    "\n",
    "x = np.arange(-11,6,0.1)\n",
    "vf = np.vectorize(f)\n",
    "y = vf(x)\n",
    "\n",
    "plt.grid(True)\n",
    "plt.plot(x,y)\n",
    "plt.xlabel('x')\n",
    "plt.ylabel('f(x)')"
   ]
  },
  {
   "cell_type": "markdown",
   "metadata": {},
   "source": [
    "### Q. 1b\n",
    "Using the plot, pick values of $a$ and $b$ such that $f(a) < 0$ and $f(b) > 0$ and the function has a **single** root in the region $(a,b)$. Assign variables called a and b to these values and print the values of $f(a)$ and $f(b)$."
   ]
  },
  {
   "cell_type": "code",
   "execution_count": 3,
   "metadata": {},
   "outputs": [
    {
     "name": "stdout",
     "output_type": "stream",
     "text": [
      "-648\n",
      "1232\n"
     ]
    }
   ],
   "source": [
    "a = -4\n",
    "b = 1\n",
    "\n",
    "print(f(a))\n",
    "print(f(b))"
   ]
  },
  {
   "cell_type": "markdown",
   "metadata": {},
   "source": [
    "Use the following FindRootBisection method to find the root to within a precision of $10^{-12}$"
   ]
  },
  {
   "cell_type": "code",
   "execution_count": 4,
   "metadata": {},
   "outputs": [],
   "source": [
    "# This function only works when a < b and f(a) < 0 < f(b)\n",
    "def FindRootBisection(f, a, b, tol, printSteps=False):\n",
    "    left = a\n",
    "    right = b\n",
    "    while right-left > tol:\n",
    "        midpoint = (left+right)/2\n",
    "        if(f(midpoint) < 0):\n",
    "            left = midpoint\n",
    "        else:\n",
    "            right = midpoint\n",
    "        if(printSteps == True):\n",
    "            print(midpoint)\n",
    "    return midpoint"
   ]
  },
  {
   "cell_type": "code",
   "execution_count": 5,
   "metadata": {},
   "outputs": [
    {
     "name": "stdout",
     "output_type": "stream",
     "text": [
      "-3.000000000000341\n"
     ]
    }
   ],
   "source": [
    "root = FindRootBisection(f,-4,1, 1e-12)\n",
    "print(root)"
   ]
  },
  {
   "cell_type": "markdown",
   "metadata": {},
   "source": [
    "### Q. 1c\n",
    "As the comment on the above FindRootBisection( ) function says it only works when $a<b$ and $f(a) < 0 < f(b)$. Create a new function that: \n",
    " - **also** works when $f(a) > 0 > f(b)$. \n",
    " - Checks that $\\text{sign}(f(a)) \\neq \\text{sign}(f(b))$. If not the function should return \"Cannot use bisection method as sign(f(a)) = sign(f(b)) \", where $a$ and $b$ have been replaced by their values\n",
    " \n",
    "Call your new function FindRootBisectionImproved( ).  \n",
    "Useful function: np.sign(x) will return sign(x)\n",
    "\n",
    "Check your new function by:\n",
    " - finding the root between $x = 2.5$ and $x=6$\n",
    " - attempting to find a root between $x=6$ and $x=8$ (there is no root in this region)"
   ]
  },
  {
   "cell_type": "code",
   "execution_count": 6,
   "metadata": {},
   "outputs": [],
   "source": [
    "def FindRootBisectionImproved(f,a,b,tol,printSteps=False):\n",
    "\n",
    "    \n",
    "    if np.sign(f(a)) != np.sign(f(b)):\n",
    "        pass\n",
    "    else:\n",
    "        print(\"Cannot use bisection method as the sign of\",((f(a))),\"equals the sign of\",f(b))\n",
    "        return\n",
    "    \n",
    "    if f(a)>f(b):\n",
    "        left = a\n",
    "        right = b\n",
    "    else:\n",
    "        right = a\n",
    "        left = b\n",
    "    \n",
    "    while left-right > tol:\n",
    "        global midpoint\n",
    "        midpoint = (left+right)/2\n",
    "        if(f(midpoint) > 0):\n",
    "            left = midpoint\n",
    "        else:\n",
    "            right = midpoint\n",
    "        if(printSteps == True):\n",
    "            print(midpoint)\n",
    "        \n",
    "            \n",
    "    return midpoint"
   ]
  },
  {
   "cell_type": "code",
   "execution_count": 7,
   "metadata": {},
   "outputs": [
    {
     "name": "stdout",
     "output_type": "stream",
     "text": [
      "4.999999999999432\n"
     ]
    }
   ],
   "source": [
    "print(FindRootBisectionImproved(f,2.5,6,1e-12))"
   ]
  },
  {
   "cell_type": "code",
   "execution_count": 8,
   "metadata": {},
   "outputs": [
    {
     "name": "stdout",
     "output_type": "stream",
     "text": [
      "Cannot use bisection method as the sign of 6912 equals the sign of 49896\n"
     ]
    }
   ],
   "source": [
    "FindRootBisectionImproved(f,6,8,1e-12)"
   ]
  },
  {
   "cell_type": "markdown",
   "metadata": {},
   "source": [
    "**Commit this question to your git repository and push the changes to GitHub**"
   ]
  },
  {
   "cell_type": "markdown",
   "metadata": {},
   "source": [
    "## Question 2: Newton-Raphson method"
   ]
  },
  {
   "cell_type": "markdown",
   "metadata": {},
   "source": [
    "### Q. 2a\n",
    " - Define a function $p(x) = \\sinh^{-1} x$. Calculate its derivative and define it as $dp(x) = \\dots$\n",
    " - Plot the function between $x=-11$ and $x=6$. Label the plot axes and use a grid."
   ]
  },
  {
   "cell_type": "code",
   "execution_count": 9,
   "metadata": {},
   "outputs": [],
   "source": [
    "def p(x):\n",
    "    return np.arcsinh(x)\n",
    "\n",
    "def dp(x):\n",
    "    return 1/(np.sqrt(1+x**2))"
   ]
  },
  {
   "cell_type": "code",
   "execution_count": 10,
   "metadata": {},
   "outputs": [],
   "source": [
    "x = np.arange(-11,6,0.1)\n",
    "vp = np.vectorize(p)\n",
    "y = vp(x)"
   ]
  },
  {
   "cell_type": "code",
   "execution_count": 11,
   "metadata": {},
   "outputs": [
    {
     "data": {
      "text/plain": [
       "Text(0, 0.5, 'arcsinh(x)')"
      ]
     },
     "execution_count": 11,
     "metadata": {},
     "output_type": "execute_result"
    },
    {
     "data": {
      "image/png": "[encoded data removed]",
      "text/plain": [
       "<Figure size 432x288 with 1 Axes>"
      ]
     },
     "metadata": {
      "needs_background": "light"
     },
     "output_type": "display_data"
    }
   ],
   "source": [
    "plt.grid(True)\n",
    "plt.plot(x,y)\n",
    "plt.xlabel(\"x\")\n",
    "plt.ylabel(\"arcsinh(x)\")"
   ]
  },
  {
   "cell_type": "markdown",
   "metadata": {},
   "source": [
    "### Q. 2b\n",
    " - Starting with a value near the root use the below Newton-Raphson code to find the root"
   ]
  },
  {
   "cell_type": "code",
   "execution_count": 12,
   "metadata": {},
   "outputs": [],
   "source": [
    "def FindRootNewtonRaphson(f, df, x0, tol, printSteps=False):\n",
    "    f0 = f(x0)\n",
    "    count = 1\n",
    "    while np.abs(f0) > tol and count < 20:\n",
    "        f0 = f(x0)\n",
    "        x0 = x0 - f0/df(x0)\n",
    "        count += 1\n",
    "        if(printSteps):\n",
    "            print(\"x_%d = %.14lf\" % (count, x0))\n",
    "    return x0"
   ]
  },
  {
   "cell_type": "code",
   "execution_count": 13,
   "metadata": {},
   "outputs": [
    {
     "data": {
      "text/plain": [
       "0.0"
      ]
     },
     "execution_count": 13,
     "metadata": {},
     "output_type": "execute_result"
    }
   ],
   "source": [
    "FindRootNewtonRaphson(p, dp, -1, 1e-12)"
   ]
  },
  {
   "cell_type": "markdown",
   "metadata": {},
   "source": [
    "### Q. 2c\n",
    "As we discussed in the lectures, the Newton-Raphson method (usually) converges quadradically if an initial guess is given that is sufficiently close to the root. If the guess is too far from the root the method can diverge. In this question we will find the critical value between converging and diverging where the method oscilliates with period 2.\n",
    "\n",
    "If we define $F(x) = x - p(x)/p'(x)$, then a period-2 orbit will occur when $F(F(x)) = x$. In general this will be a complicated function so it might be very difficult to find the solution analytically. Instead, we can write this equation as $F(F(x)) - x = 0$, so the value of $x$ we want is the root.\n",
    "\n",
    "- Define a function F(x)\n",
    "- Define a function F2(x) which returns $F(F(x)) - x$\n",
    "- Plot F2(x) with labels and a grid"
   ]
  },
  {
   "cell_type": "code",
   "execution_count": 14,
   "metadata": {},
   "outputs": [],
   "source": [
    "def F(x):\n",
    "    return x-p(x)/dp(x)\n",
    "def F2(x):\n",
    "    return F(F(x))-x"
   ]
  },
  {
   "cell_type": "code",
   "execution_count": 15,
   "metadata": {},
   "outputs": [
    {
     "data": {
      "text/plain": [
       "Text(0, 0.5, 'F2(x)')"
      ]
     },
     "execution_count": 15,
     "metadata": {},
     "output_type": "execute_result"
    },
    {
     "data": {
      "image/png": "[encoded data removed]",
      "text/plain": [
       "<Figure size 432x288 with 1 Axes>"
      ]
     },
     "metadata": {
      "needs_background": "light"
     },
     "output_type": "display_data"
    }
   ],
   "source": [
    "plt.plot(x, F2(x))\n",
    "plt.grid(True)\n",
    "plt.xlabel(\"x\")\n",
    "plt.ylabel('F2(x)')"
   ]
  },
  {
   "cell_type": "markdown",
   "metadata": {},
   "source": [
    "- We want to find a root with $x \\neq 0$. As we don't have easy access to the derivative of the function $F2(x)$ use the bisection method function from above to find a root of $F2(x)$ to a precision of $10^{-15}$. Use the plot from the previous part to bracket a root. **Assign** the vaue of the root of the variable 'x2' and also print(x2).\n",
    "- Use the Newton-Raphson method with the function $p(x)$ and the initial guess x2. Set the final argument to True to print out the steps in the method takes. You should see that they oscillate between two values and the algorithm does not converge."
   ]
  },
  {
   "cell_type": "code",
   "execution_count": 16,
   "metadata": {},
   "outputs": [
    {
     "name": "stdout",
     "output_type": "stream",
     "text": [
      "-3.319826386395148\n"
     ]
    }
   ],
   "source": [
    "x2 = FindRootBisectionImproved(F2,-5, -2.5, 1e-15)\n",
    "print(x2)"
   ]
  },
  {
   "cell_type": "code",
   "execution_count": 17,
   "metadata": {},
   "outputs": [
    {
     "name": "stdout",
     "output_type": "stream",
     "text": [
      "x_2 = 3.31982638639515\n",
      "x_3 = -3.31982638639515\n",
      "x_4 = 3.31982638639514\n",
      "x_5 = -3.31982638639514\n",
      "x_6 = 3.31982638639513\n",
      "x_7 = -3.31982638639511\n",
      "x_8 = 3.31982638639507\n",
      "x_9 = -3.31982638639501\n",
      "x_10 = 3.31982638639490\n",
      "x_11 = -3.31982638639469\n",
      "x_12 = 3.31982638639431\n",
      "x_13 = -3.31982638639361\n",
      "x_14 = 3.31982638639232\n",
      "x_15 = -3.31982638638996\n",
      "x_16 = 3.31982638638564\n",
      "x_17 = -3.31982638637771\n",
      "x_18 = 3.31982638636317\n",
      "x_19 = -3.31982638633652\n",
      "x_20 = 3.31982638628765\n"
     ]
    },
    {
     "data": {
      "text/plain": [
       "3.3198263862876463"
      ]
     },
     "execution_count": 17,
     "metadata": {},
     "output_type": "execute_result"
    }
   ],
   "source": [
    "FindRootNewtonRaphson(p, dp, x2, 1e-15, printSteps=True)"
   ]
  },
  {
   "cell_type": "markdown",
   "metadata": {},
   "source": [
    "By slightly perturbing the initial guess we can get the method to converge or diverge. Try:\n",
    " - adding $10^{-3}$ to the initial guess. Does the method converge or diverge?\n",
    " - subtracting $10^{-3}$ from the initial guess. Does the method converge or diverge?\n",
    " \n",
    "In both cases set the final argument to 'True' to get the function to print the steps the method is taking"
   ]
  },
  {
   "cell_type": "code",
   "execution_count": 18,
   "metadata": {},
   "outputs": [
    {
     "name": "stdout",
     "output_type": "stream",
     "text": [
      "x_2 = -6575.67836200201782\n",
      "x_3 = 55789.89852175718988\n",
      "x_4 = -592627.93396523268893\n",
      "x_5 = 7695551.80227342806756\n",
      "x_6 = -119660445.27394521236420\n",
      "x_7 = 2188986319.86536264419556\n",
      "x_8 = -46406185106.10568237304688\n",
      "x_9 = 1125528456224.11840820312500\n",
      "x_10 = -30887225698969.31640625000000\n",
      "x_11 = 949921522120461.37500000000000\n",
      "x_12 = -32468837869005184.00000000000000\n",
      "x_13 = 1224471449373303808.00000000000000\n",
      "x_14 = -50622329026466258944.00000000000000\n",
      "x_15 = 2281248260744785952768.00000000000000\n",
      "x_16 = -111489522948346661044224.00000000000000\n",
      "x_17 = 5882339386675598272233472.00000000000000\n",
      "x_18 = -333688313151178483450249216.00000000000000\n",
      "x_19 = 20276702747991614603445403648.00000000000000\n",
      "x_20 = -1315398721537861599928162189312.00000000000000\n"
     ]
    },
    {
     "data": {
      "text/plain": [
       "-1.3153987215378616e+30"
      ]
     },
     "execution_count": 18,
     "metadata": {},
     "output_type": "execute_result"
    }
   ],
   "source": [
    "FindRootNewtonRaphson(p, dp, x2+1e3, 1e-15, printSteps=True)"
   ]
  },
  {
   "cell_type": "code",
   "execution_count": 19,
   "metadata": {},
   "outputs": [
    {
     "name": "stdout",
     "output_type": "stream",
     "text": [
      "x_2 = 6626.14567932299997\n",
      "x_3 = -56268.73786611238756\n",
      "x_4 = 598195.29104732966516\n",
      "x_5 = -7773439.97280225344002\n",
      "x_6 = 120949832.82855241000652\n",
      "x_7 = -2213869803.21307659149170\n",
      "x_8 = 46958735643.02034759521484\n",
      "x_9 = -1139485758845.76733398437500\n",
      "x_10 = 31284291360019.46093750000000\n",
      "x_11 = -962532689356375.12500000000000\n",
      "x_12 = 32912588984084840.00000000000000\n",
      "x_13 = -1241653051878761728.00000000000000\n",
      "x_14 = 51349955657175113728.00000000000000\n",
      "x_15 = -2314770910415073574912.00000000000000\n",
      "x_16 = 113161614900544086736896.00000000000000\n",
      "x_17 = -5972245808611612172484608.00000000000000\n",
      "x_18 = 338879037708981671150223360.00000000000000\n",
      "x_19 = -20597350074568703288293720064.00000000000000\n",
      "x_20 = 1336523058063074805972385923072.00000000000000\n"
     ]
    },
    {
     "data": {
      "text/plain": [
       "1.3365230580630748e+30"
      ]
     },
     "execution_count": 19,
     "metadata": {},
     "output_type": "execute_result"
    }
   ],
   "source": [
    "FindRootNewtonRaphson(p, dp, x2-1e3, 1e-15, printSteps=True)"
   ]
  },
  {
   "cell_type": "markdown",
   "metadata": {},
   "source": [
    "**Commit this question to your git repository and push the changes to GitHub**"
   ]
  },
  {
   "cell_type": "markdown",
   "metadata": {},
   "source": [
    "## Question 3: Slow convergence of the Newton-Raphson method at repeated roots\n",
    "The Newton-Raphson method usual converges quadratically but it will converge more slowly at repeated roots. In this question we will look at an example of this."
   ]
  },
  {
   "cell_type": "markdown",
   "metadata": {},
   "source": [
    "Define the function $g(x) = (x-2)^2(x+1)$, and also define its derivative $g'(x)$. Plot the function from $x=-2\\dots3$"
   ]
  },
  {
   "cell_type": "code",
   "execution_count": 20,
   "metadata": {},
   "outputs": [],
   "source": [
    "def g(x):\n",
    "    return ((x-2)**2)*(x+1)\n",
    "\n",
    "def dg(x):\n",
    "    return 3*(x**2)-6*x"
   ]
  },
  {
   "cell_type": "code",
   "execution_count": 21,
   "metadata": {},
   "outputs": [
    {
     "data": {
      "text/plain": [
       "Text(0, 0.5, 'g(x)')"
      ]
     },
     "execution_count": 21,
     "metadata": {},
     "output_type": "execute_result"
    },
    {
     "data": {
      "image/png": "[encoded data removed]",
      "text/plain": [
       "<Figure size 432x288 with 1 Axes>"
      ]
     },
     "metadata": {
      "needs_background": "light"
     },
     "output_type": "display_data"
    }
   ],
   "source": [
    "x = np.arange(-2,3,0.1)\n",
    "y = g(x)\n",
    "\n",
    "plt.plot(x,y)\n",
    "plt.grid(True)\n",
    "plt.xlabel('x')\n",
    "plt.ylabel('g(x)')"
   ]
  },
  {
   "cell_type": "markdown",
   "metadata": {},
   "source": [
    "What do you notice about the convergence rates in these two cases? Let's examine it more carefully. The function below returns the individual steps of the Newton-Raphson algorithm."
   ]
  },
  {
   "cell_type": "code",
   "execution_count": 22,
   "metadata": {},
   "outputs": [],
   "source": [
    "def FindRootNewtonRaphsonSteps(f, df, x0, tol):\n",
    "    steps = np.array([x0])\n",
    "    f0 = f(x0)\n",
    "    count = 1\n",
    "    while np.abs(f0) > tol:\n",
    "        f0 = f(x0)\n",
    "        x0 = x0 - f0/df(x0)\n",
    "        steps = np.append(steps, x0)\n",
    "        count += 1\n",
    "    return steps"
   ]
  },
  {
   "cell_type": "markdown",
   "metadata": {},
   "source": [
    "Using the above function:\n",
    "- compute the steps for the function $g(x)$ with  $x_0 = 3$. Assign the result to a variable.\n",
    "- compute the steps for the function $g(x)$ with  $x_0 = -2$. Assign the result to a different variable."
   ]
  },
  {
   "cell_type": "code",
   "execution_count": 88,
   "metadata": {},
   "outputs": [],
   "source": [
    "root1 = 2\n",
    "g1 = FindRootNewtonRaphsonSteps(g, dg, 3, 1e-15)"
   ]
  },
  {
   "cell_type": "code",
   "execution_count": 89,
   "metadata": {},
   "outputs": [],
   "source": [
    "root2 = -1\n",
    "g2 = FindRootNewtonRaphsonSteps(g, dg, -2, 1e-15)"
   ]
  },
  {
   "cell_type": "markdown",
   "metadata": {},
   "source": [
    "Plot the absolute difference between the steps and the root, i.e., $|x_n - x_*|$, on a log scale."
   ]
  },
  {
   "cell_type": "code",
   "execution_count": 138,
   "metadata": {},
   "outputs": [
    {
     "data": {
      "image/png": "[encoded data removed]",
      "text/plain": [
       "<Figure size 432x288 with 1 Axes>"
      ]
     },
     "metadata": {
      "needs_background": "light"
     },
     "output_type": "display_data"
    }
   ],
   "source": [
    "x1 = abs(g1)\n",
    "y1 = abs(g1-root1)\n",
    "\n",
    "plt.plot(np.log(x1), y1)\n",
    "plt.title('Root: x=2')\n",
    "plt.xlabel('steps')\n",
    "plt.ylabel('absolute difference')\n",
    "plt.grid(True)"
   ]
  },
  {
   "cell_type": "code",
   "execution_count": 139,
   "metadata": {},
   "outputs": [
    {
     "data": {
      "image/png": "[encoded data removed]",
      "text/plain": [
       "<Figure size 432x288 with 1 Axes>"
      ]
     },
     "metadata": {
      "needs_background": "light"
     },
     "output_type": "display_data"
    }
   ],
   "source": [
    "x2 = abs(g2)\n",
    "y2 = abs(g2-root2)\n",
    "\n",
    "\n",
    "plt.plot(np.log(x2),y2)\n",
    "plt.title('Root: x=-1')\n",
    "plt.xlabel('steps')\n",
    "plt.ylabel('absolute difference')\n",
    "plt.grid(True)"
   ]
  },
  {
   "cell_type": "markdown",
   "metadata": {},
   "source": [
    "You should find the difference for the repeated root looks linear on the log-scale, which is the same as we saw for the bisection method. This (correctly) suggests that for repeated roots the Newton-Raphson converges linearly (rather than quadratically)"
   ]
  },
  {
   "cell_type": "markdown",
   "metadata": {},
   "source": [
    "**Commit this question to your git repository and push the changes to GitHub**"
   ]
  },
  {
   "cell_type": "markdown",
   "metadata": {},
   "source": [
    "## Submitting the assignment\n",
    "\n",
    "Submit the assignment the same way you did with the first one.\n",
    "\n",
    "To submit your assignment you should zip the ACM20030-Assignments folder. Rename the zip file ACM20030-Assignments2-STUDENTNUMBER.zip where STUDENTNUMBER is your student number. Upload the zip file to BrightSpace."
   ]
  },
  {
   "cell_type": "code",
   "execution_count": null,
   "metadata": {},
   "outputs": [],
   "source": []
  }
 ],
 "metadata": {
  "kernelspec": {
   "display_name": "Python 3",
   "language": "python",
   "name": "python3"
  },
  "language_info": {
   "codemirror_mode": {
    "name": "ipython",
    "version": 3
   },
   "file_extension": ".py",
   "mimetype": "text/x-python",
   "name": "python",
   "nbconvert_exporter": "python",
   "pygments_lexer": "ipython3",
   "version": "3.7.1"
  }
 },
 "nbformat": 4,
 "nbformat_minor": 2
}
