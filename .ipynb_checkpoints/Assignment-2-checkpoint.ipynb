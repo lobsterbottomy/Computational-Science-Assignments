{
 "cells": [
  {
   "cell_type": "markdown",
   "metadata": {},
   "source": [
    "# Assignment 2\n",
    "This is due by 5pm on Friday 21st February. The mark breakdown is:\n",
    "\n",
    "- Q0 [1 marks]\n",
    "- Q1 [10 marks]\n",
    "- Q2 [10 marks]\n",
    "- Q3 [9 marks]\n",
    "\n",
    "It is adviseable that you tidy up your notebook before submitting the final version. Also, remember to add comments to your code."
   ]
  },
  {
   "cell_type": "markdown",
   "metadata": {},
   "source": [
    "# Question 0\n",
    "\n",
    "You should have saved this notebook to your ACM20030-Assignments folder. Now:\n",
    "- commit the notebook to your local repository\n",
    "- push the changes to the GitHub"
   ]
  },
  {
   "cell_type": "code",
   "execution_count": 2,
   "metadata": {},
   "outputs": [],
   "source": [
    "import numpy as np\n",
    "import matplotlib.pyplot as plt\n",
    "\n",
    "# The below commands make the font and image size bigger\n",
    "plt.rcParams.update({'font.size': 22})\n",
    "plt.rcParams[\"figure.figsize\"] = (15,10)"
   ]
  },
  {
   "cell_type": "markdown",
   "metadata": {},
   "source": [
    "# Question 1: Bisection method"
   ]
  },
  {
   "cell_type": "markdown",
   "metadata": {},
   "source": [
    "### Q. 1a\n",
    "Define a function for the quintic $f(x) = x^5+12 x^4-15 x^3-386 x^2-180 x+1800$ and plot it in the range $x=-11\\dots6$"
   ]
  },
  {
   "cell_type": "code",
   "execution_count": 13,
   "metadata": {
    "scrolled": true
   },
   "outputs": [
    {
     "data": {
      "text/plain": [
       "[<matplotlib.lines.Line2D at 0x14a5c8466d8>]"
      ]
     },
     "execution_count": 13,
     "metadata": {},
     "output_type": "execute_result"
    },
    {
     "data": {
      "image/png": "[encoded data removed]",
      "text/plain": [
       "<Figure size 432x288 with 1 Axes>"
      ]
     },
     "metadata": {
      "needs_background": "light"
     },
     "output_type": "display_data"
    }
   ],
   "source": [
    "def f(x):\n",
    "    return ((x**5)+12*(x**4)-15*(x**3)-386*(x**2)-(180*x)+1800)\n",
    "\n",
    "x = np.arange(-11,6,0.1)\n",
    "vf = np.vectorize(f)\n",
    "y = vf(x)\n",
    "\n",
    "plt.grid(True)\n",
    "plt.plot(x,y)"
   ]
  },
  {
   "cell_type": "markdown",
   "metadata": {},
   "source": [
    "### Q. 1b\n",
    "Using the plot, pick values of $a$ and $b$ such that $f(a) < 0$ and $f(b) > 0$ and the function has a **single** root in the region $(a,b)$. Assign variables called a and b to these values and print the values of $f(a)$ and $f(b)$."
   ]
  },
  {
   "cell_type": "code",
   "execution_count": 25,
   "metadata": {},
   "outputs": [
    {
     "name": "stdout",
     "output_type": "stream",
     "text": [
      "-648\n",
      "1232\n"
     ]
    }
   ],
   "source": [
    "a = -4\n",
    "b = 1\n",
    "\n",
    "print(f(a))\n",
    "print(f(b))"
   ]
  },
  {
   "cell_type": "markdown",
   "metadata": {},
   "source": [
    "Use the following FindRootBisection method to find the root to within a precision of $10^{-12}$"
   ]
  },
  {
   "cell_type": "code",
   "execution_count": 20,
   "metadata": {},
   "outputs": [],
   "source": [
    "# This function only works when a < b and f(a) < 0 < f(b)\n",
    "def FindRootBisection(f, a, b, tol, printSteps=False):\n",
    "    left = a\n",
    "    right = b\n",
    "    while right-left > tol:\n",
    "        midpoint = (left+right)/2\n",
    "        if(f(midpoint) < 0):\n",
    "            left = midpoint\n",
    "        else:\n",
    "            right = midpoint\n",
    "        if(printSteps == True):\n",
    "            print(midpoint)\n",
    "    return midpoint"
   ]
  },
  {
   "cell_type": "code",
   "execution_count": 28,
   "metadata": {},
   "outputs": [
    {
     "name": "stdout",
     "output_type": "stream",
     "text": [
      "-3.000000000000341\n"
     ]
    }
   ],
   "source": [
    "root = FindRootBisection(f,-4,1, 1e-12)\n",
    "print(root)"
   ]
  },
  {
   "cell_type": "markdown",
   "metadata": {},
   "source": [
    "### Q. 1c\n",
    "As the comment on the above FindRootBisection( ) function says it only works when $a<b$ and $f(a) < 0 < f(b)$. Create a new function that: \n",
    " - **also** works when $f(a) > 0 > f(b)$. \n",
    " - Checks that $\\text{sign}(f(a)) \\neq \\text{sign}(f(b))$. If not the function should return \"Cannot use bisection method as sign(f(a)) = sign(f(b)) \", where $a$ and $b$ have been replaced by their values\n",
    " \n",
    "Call your new function FindRootBisectionImproved( ).  \n",
    "Useful function: np.sign(x) will return sign(x)\n",
    "\n",
    "Check your new function by:\n",
    " - finding the root between $x = 2.5$ and $x=6$\n",
    " - attempting to find a root between $x=6$ and $x=8$ (there is no root in this region)"
   ]
  },
  {
   "cell_type": "code",
   "execution_count": 85,
   "metadata": {},
   "outputs": [],
   "source": [
    "def FindRootBisectionImproved(f,a,b,tol,printSteps=False):\n",
    "\n",
    "    \n",
    "    if np.sign(f(a)) != np.sign(f(b)):\n",
    "        pass\n",
    "    else:\n",
    "        print(\"Cannot use bisection method as the sign of\",((f(a))),\"equals the sign of\",f(b))\n",
    "        return\n",
    "    \n",
    "    if f(a)>f(b):\n",
    "        left = a\n",
    "        right = b\n",
    "    else:\n",
    "        right = a\n",
    "        left = b\n",
    "    \n",
    "    while left-right > tol:\n",
    "        global midpoint\n",
    "        midpoint = (left+right)/2\n",
    "        if(f(midpoint) > 0):\n",
    "            left = midpoint\n",
    "        else:\n",
    "            right = midpoint\n",
    "        if(printSteps == True):\n",
    "            print(midpoint)\n",
    "        \n",
    "            \n",
    "    return midpoint"
   ]
  },
  {
   "cell_type": "code",
   "execution_count": 86,
   "metadata": {},
   "outputs": [
    {
     "name": "stdout",
     "output_type": "stream",
     "text": [
      "4.999999999999432\n"
     ]
    }
   ],
   "source": [
    "print(FindRootBisectionImproved(f,2.5,6,1e-12))"
   ]
  },
  {
   "cell_type": "code",
   "execution_count": 54,
   "metadata": {},
   "outputs": [
    {
     "name": "stdout",
     "output_type": "stream",
     "text": [
      "Cannot use bisection method as the sign of 6912 equals the sign of 49896\n"
     ]
    }
   ],
   "source": [
    "FindRootBisectionImproved(f,6,8,1e-12)"
   ]
  },
  {
   "cell_type": "markdown",
   "metadata": {},
   "source": [
    "**Commit this question to your git repository and push the changes to GitHub**"
   ]
  },
  {
   "cell_type": "markdown",
   "metadata": {},
   "source": [
    "## Question 2: Newton-Raphson method"
   ]
  },
  {
   "cell_type": "markdown",
   "metadata": {},
   "source": [
    "### Q. 2a\n",
    " - Define a function $p(x) = \\sinh^{-1} x$. Calculate its derivative and define it as $dp(x) = \\dots$\n",
    " - Plot the function between $x=-11$ and $x=6$. Label the plot axes and use a grid."
   ]
  },
  {
   "cell_type": "code",
   "execution_count": null,
   "metadata": {},
   "outputs": [],
   "source": []
  },
  {
   "cell_type": "markdown",
   "metadata": {},
   "source": [
    "### Q. 2b\n",
    " - Starting with a value near the root use the below Newton-Raphson code to find the root"
   ]
  },
  {
   "cell_type": "code",
   "execution_count": 34,
   "metadata": {},
   "outputs": [],
   "source": [
    "def FindRootNewtonRaphson(f, df, x0, tol, printSteps=False):\n",
    "    f0 = f(x0)\n",
    "    count = 1\n",
    "    while np.abs(f0) > tol and count < 20:\n",
    "        f0 = f(x0)\n",
    "        x0 = x0 - f0/df(x0)\n",
    "        count += 1\n",
    "        if(printSteps):\n",
    "            print(\"x_%d = %.14lf\" % (count, x0))\n",
    "    return x0"
   ]
  },
  {
   "cell_type": "code",
   "execution_count": null,
   "metadata": {},
   "outputs": [],
   "source": []
  },
  {
   "cell_type": "markdown",
   "metadata": {},
   "source": [
    "### Q. 2c\n",
    "As we discussed in the lectures, the Newton-Raphson method (usually) converges quadradically if an initial guess is given that is sufficiently close to the root. If the guess is too far from the root the method can diverge. In this question we will find the critical value between converging and diverging where the method oscilliates with period 2.\n",
    "\n",
    "If we define $F(x) = x - p(x)/p'(x)$, then a period-2 orbit will occur when $F(F(x)) = x$. In general this will be a complicated function so it might be very difficult to find the solution analytically. Instead, we can write this equation as $F(F(x)) - x = 0$, so the value of $x$ we want is the root.\n",
    "\n",
    "- Define a function F(x)\n",
    "- Define a function F2(x) which returns $F(F(x)) - x$\n",
    "- Plot F2(x) with labels and a grid"
   ]
  },
  {
   "cell_type": "code",
   "execution_count": null,
   "metadata": {},
   "outputs": [],
   "source": []
  },
  {
   "cell_type": "markdown",
   "metadata": {},
   "source": [
    "- We want to find a root with $x \\neq 0$. As we don't have easy access to the derivative of the function $F2(x)$ use the bisection method function from above to find a root of $F2(x)$ to a precision of $10^{-15}$. Use the plot from the previous part to bracket a root. **Assign** the vaue of the root of the variable 'x2' and also print(x2).\n",
    "- Use the Newton-Raphson method with the function $p(x)$ and the initial guess x2. Set the final argument to True to print out the steps in the method takes. You should see that they oscillate between two values and the algorithm does not converge."
   ]
  },
  {
   "cell_type": "code",
   "execution_count": null,
   "metadata": {},
   "outputs": [],
   "source": []
  },
  {
   "cell_type": "markdown",
   "metadata": {},
   "source": [
    "By slightly perturbing the initial guess we can get the method to converge or diverge. Try:\n",
    " - adding $10^{-3}$ to the initial guess. Does the method converge or diverge?\n",
    " - subtracting $10^{-3}$ from the initial guess. Does the method converge or diverge?\n",
    " \n",
    "In both cases set the final argument to 'True' to get the function to print the steps the method is taking"
   ]
  },
  {
   "cell_type": "code",
   "execution_count": null,
   "metadata": {},
   "outputs": [],
   "source": []
  },
  {
   "cell_type": "markdown",
   "metadata": {},
   "source": [
    "**Commit this question to your git repository and push the changes to GitHub**"
   ]
  },
  {
   "cell_type": "markdown",
   "metadata": {},
   "source": [
    "## Question 3: Slow convergence of the Newton-Raphson method at repeated roots\n",
    "The Newton-Raphson method usual converges quadratically but it will converge more slowly at repeated roots. In this question we will look at an example of this."
   ]
  },
  {
   "cell_type": "markdown",
   "metadata": {},
   "source": [
    "Define the function $g(x) = (x-2)^2(x+1)$, and also define its derivative $g'(x)$. Plot the function from $x=-2\\dots3$"
   ]
  },
  {
   "cell_type": "code",
   "execution_count": null,
   "metadata": {},
   "outputs": [],
   "source": []
  },
  {
   "cell_type": "markdown",
   "metadata": {},
   "source": [
    "Run the FindRootNewtonRaphson function with the final (optional) argument set to True to see the steps the algorithm takes. Run it with:\n",
    " - the initial value of $x_0 = 3$\n",
    " - the initial value of $x_0 = -2$"
   ]
  },
  {
   "cell_type": "code",
   "execution_count": null,
   "metadata": {},
   "outputs": [],
   "source": []
  },
  {
   "cell_type": "markdown",
   "metadata": {},
   "source": [
    "What do you notice about the convergence rates in these two cases? Let's examine it more carefully. The function below returns the individual steps of the Newton-Raphson algorithm."
   ]
  },
  {
   "cell_type": "code",
   "execution_count": 100,
   "metadata": {},
   "outputs": [],
   "source": [
    "def FindRootNewtonRaphsonSteps(f, df, x0, tol):\n",
    "    steps = np.array([x0])\n",
    "    f0 = f(x0)\n",
    "    count = 1\n",
    "    while np.abs(f0) > tol:\n",
    "        f0 = f(x0)\n",
    "        x0 = x0 - f0/df(x0)\n",
    "        steps = np.append(steps, x0)\n",
    "        count += 1\n",
    "    return steps"
   ]
  },
  {
   "cell_type": "markdown",
   "metadata": {},
   "source": [
    "Using the above function:\n",
    "- compute the steps for the function $g(x)$ with  $x_0 = 3$. Assign the result to a variable.\n",
    "- compute the steps for the function $g(x)$ with  $x_0 = -2$. Assign the result to a different variable."
   ]
  },
  {
   "cell_type": "code",
   "execution_count": null,
   "metadata": {},
   "outputs": [],
   "source": []
  },
  {
   "cell_type": "markdown",
   "metadata": {},
   "source": [
    "Plot the absolute difference between the steps and the root, i.e., $|x_n - x_*|$, on a log scale."
   ]
  },
  {
   "cell_type": "code",
   "execution_count": null,
   "metadata": {},
   "outputs": [],
   "source": []
  },
  {
   "cell_type": "markdown",
   "metadata": {},
   "source": [
    "You should find the difference for the repeated root looks linear on the log-scale, which is the same as we saw for the bisection method. This (correctly) suggests that for repeated roots the Newton-Raphson converges linearly (rather than quadratically)"
   ]
  },
  {
   "cell_type": "markdown",
   "metadata": {},
   "source": [
    "**Commit this question to your git repository and push the changes to GitHub**"
   ]
  },
  {
   "cell_type": "markdown",
   "metadata": {},
   "source": [
    "## Submitting the assignment\n",
    "\n",
    "Submit the assignment the same way you did with the first one.\n",
    "\n",
    "To submit your assignment you should zip the ACM20030-Assignments folder. Rename the zip file ACM20030-Assignments2-STUDENTNUMBER.zip where STUDENTNUMBER is your student number. Upload the zip file to BrightSpace."
   ]
  },
  {
   "cell_type": "code",
   "execution_count": null,
   "metadata": {},
   "outputs": [],
   "source": []
  }
 ],
 "metadata": {
  "kernelspec": {
   "display_name": "Python 3",
   "language": "python",
   "name": "python3"
  },
  "language_info": {
   "codemirror_mode": {
    "name": "ipython",
    "version": 3
   },
   "file_extension": ".py",
   "mimetype": "text/x-python",
   "name": "python",
   "nbconvert_exporter": "python",
   "pygments_lexer": "ipython3",
   "version": "3.7.1"
  }
 },
 "nbformat": 4,
 "nbformat_minor": 2
}
