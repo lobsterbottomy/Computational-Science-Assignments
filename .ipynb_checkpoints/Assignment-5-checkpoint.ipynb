{
 "cells": [
  {
   "cell_type": "markdown",
   "metadata": {},
   "source": [
    "#  Assignment 5\n",
    "\n",
    "This assignment covers material on matrices, norms, condition numbers and eigensystems. The assignment is due by 5pm on Friday the 17th of April.\n",
    "\n",
    "The breakdown of the marks is as follows:\n",
    "\n",
    "Question 0 - [1 mark]  \n",
    "Question 1 - [7 marks]  \n",
    "Questino 2 - [6 marks]  \n",
    "Question 3 - [7 marks]  \n",
    "Question 4 - [9 marks]  "
   ]
  },
  {
   "cell_type": "markdown",
   "metadata": {},
   "source": [
    "# Question 0\n",
    "\n",
    "You should have saved this notebook to your ACM20030-Assignments folder. Now:\n",
    "- commit the notebook to your local repository\n",
    "- push the changes to the GitHub"
   ]
  },
  {
   "cell_type": "code",
   "execution_count": 53,
   "metadata": {},
   "outputs": [],
   "source": [
    "import numpy as np\n",
    "from numpy import linalg as la\n",
    "np.set_printoptions(linewidth=200)  # This stops line wrapping of larger matrices"
   ]
  },
  {
   "cell_type": "markdown",
   "metadata": {},
   "source": [
    "# Question 1 - practice manipulating arrays\n",
    "\n",
    "This questions asks you write a few functions for manipulating arrays of data"
   ]
  },
  {
   "cell_type": "markdown",
   "metadata": {},
   "source": [
    "## Q1 a\n",
    "\n",
    "Write a function that checks if a given $n\\times n$ matrix is symmetric. Use only loops and `.shape` function from numpy (do not use any other special numpy functions)."
   ]
  },
  {
   "cell_type": "code",
   "execution_count": 54,
   "metadata": {},
   "outputs": [],
   "source": [
    " def matrix_symmetry(matrix):\n",
    "        symmetric = True\n",
    "        for x in range(len(matrix)):\n",
    "            for y in range(len(matrix[x])):\n",
    "                if matrix[x][y] != matrix[y][x]:\n",
    "                    symmetric = False\n",
    "                    break # inner for loop\n",
    "            if not symmetric:\n",
    "                break # outer for loop\n",
    "        print(\"Is the matrix symmetric?\",symmetric)"
   ]
  },
  {
   "cell_type": "markdown",
   "metadata": {},
   "source": [
    "Test your function on the two matrices below"
   ]
  },
  {
   "cell_type": "code",
   "execution_count": 55,
   "metadata": {},
   "outputs": [],
   "source": [
    "A = np.random.rand(5,5)\n",
    "SymMatrix = (A + A.T)/2"
   ]
  },
  {
   "cell_type": "code",
   "execution_count": 56,
   "metadata": {},
   "outputs": [
    {
     "name": "stdout",
     "output_type": "stream",
     "text": [
      "Is the matrix symmetric? False\n"
     ]
    }
   ],
   "source": [
    "matrix_symmetry(A)"
   ]
  },
  {
   "cell_type": "code",
   "execution_count": 57,
   "metadata": {},
   "outputs": [
    {
     "name": "stdout",
     "output_type": "stream",
     "text": [
      "Is the matrix symmetric? True\n"
     ]
    }
   ],
   "source": [
    "matrix_symmetry(SymMatrix)"
   ]
  },
  {
   "cell_type": "markdown",
   "metadata": {},
   "source": [
    "## Q1 b\n",
    "\n",
    "Write a function to transpose a general $n\\times n$ matrix. Do this by writing loops and not using any special functions like `np.transpose()`, `A.T`, or any functions from any other library."
   ]
  },
  {
   "cell_type": "code",
   "execution_count": 58,
   "metadata": {},
   "outputs": [],
   "source": [
    "def transpose(matrix):\n",
    "    end_result = np.empty([len(matrix),len(matrix)])\n",
    "            \n",
    "    for i in range(len(matrix)):\n",
    "        for j in range(len(matrix[0])):\n",
    "            end_result[j][i] = matrix[i][j]\n",
    "            \n",
    "    return end_result"
   ]
  },
  {
   "cell_type": "markdown",
   "metadata": {},
   "source": [
    "Check your code by transposing the below random matrix and checking that $A^T \\neq A$ and $(A^T)^T - A = 0$"
   ]
  },
  {
   "cell_type": "code",
   "execution_count": 59,
   "metadata": {
    "scrolled": false
   },
   "outputs": [
    {
     "name": "stdout",
     "output_type": "stream",
     "text": [
      "The matrix A is:\n",
      " [[0.02495381 0.32952748 0.90877555 0.99468917 0.99087953 0.58156202]\n",
      " [0.59636027 0.3118155  0.15203177 0.3866347  0.24919321 0.89592072]\n",
      " [0.55999755 0.12656735 0.24468321 0.85234292 0.81778497 0.31307489]\n",
      " [0.11192294 0.60181794 0.57506289 0.59539868 0.09696927 0.74949583]\n",
      " [0.69750225 0.40110545 0.12357076 0.89391167 0.09166225 0.9564665 ]\n",
      " [0.01236514 0.30589152 0.0198638  0.76473013 0.32601991 0.69588412]]\n",
      "The transpose of A is:\n",
      " [[0.02495381 0.59636027 0.55999755 0.11192294 0.69750225 0.01236514]\n",
      " [0.32952748 0.3118155  0.12656735 0.60181794 0.40110545 0.30589152]\n",
      " [0.90877555 0.15203177 0.24468321 0.57506289 0.12357076 0.0198638 ]\n",
      " [0.99468917 0.3866347  0.85234292 0.59539868 0.89391167 0.76473013]\n",
      " [0.99087953 0.24919321 0.81778497 0.09696927 0.09166225 0.32601991]\n",
      " [0.58156202 0.89592072 0.31307489 0.74949583 0.9564665  0.69588412]]\n",
      "The transpose of the transpose of A minus A is:\n",
      " [[0. 0. 0. 0. 0. 0.]\n",
      " [0. 0. 0. 0. 0. 0.]\n",
      " [0. 0. 0. 0. 0. 0.]\n",
      " [0. 0. 0. 0. 0. 0.]\n",
      " [0. 0. 0. 0. 0. 0.]\n",
      " [0. 0. 0. 0. 0. 0.]]\n"
     ]
    }
   ],
   "source": [
    "A = np.random.rand(6,6)\n",
    "\n",
    "print(\"The matrix A is:\\n\", A)\n",
    "print(\"The transpose of A is:\\n\", transpose(A))\n",
    "\n",
    "print(\"The transpose of the transpose of A minus A is:\\n\", transpose(transpose(A)) - A)"
   ]
  },
  {
   "cell_type": "markdown",
   "metadata": {},
   "source": [
    "## Q1c\n",
    "\n",
    "Write a function that finds the maximum entry in a matrix (where the matrix does not need to be square). Do this by writing loops and not using any special functions like `np.max` or any functions from any other library."
   ]
  },
  {
   "cell_type": "code",
   "execution_count": 60,
   "metadata": {},
   "outputs": [],
   "source": [
    "def max_matrix(my_matrix):\n",
    "\n",
    "    max = 0\n",
    "    n = 0\n",
    "    \n",
    "    while n < len(my_matrix):\n",
    "        for i in my_matrix:\n",
    "            for j in my_matrix[n]:\n",
    "                if j > max:\n",
    "                    max = j\n",
    "            n += 1\n",
    "\n",
    "            \n",
    "    return max"
   ]
  },
  {
   "cell_type": "markdown",
   "metadata": {},
   "source": [
    "Check your result by comparing to `np.max(A)` for the below random matrix"
   ]
  },
  {
   "cell_type": "code",
   "execution_count": 61,
   "metadata": {},
   "outputs": [
    {
     "data": {
      "text/plain": [
       "0.9849844458527883"
      ]
     },
     "execution_count": 61,
     "metadata": {},
     "output_type": "execute_result"
    }
   ],
   "source": [
    "A = np.random.rand(4,5)\n",
    "\n",
    "max_matrix(A)"
   ]
  },
  {
   "cell_type": "code",
   "execution_count": 62,
   "metadata": {},
   "outputs": [
    {
     "data": {
      "text/plain": [
       "0.9849844458527883"
      ]
     },
     "execution_count": 62,
     "metadata": {},
     "output_type": "execute_result"
    }
   ],
   "source": [
    "np.max(A)"
   ]
  },
  {
   "cell_type": "markdown",
   "metadata": {},
   "source": [
    "# Question 2:  matrix norms\n",
    "\n",
    "In the lectures we focused on the $L^2$-norm. We also briefly mentioned the $L^1$ and $L^\\infty$ norm. Let's look at calculating those as well for a general $m\\times n$ matrix."
   ]
  },
  {
   "cell_type": "markdown",
   "metadata": {},
   "source": [
    "# Q2a\n",
    "\n",
    "The $L^1$ norm is given by\n",
    "\n",
    "$$ \\lVert A \\rVert_1 = \\max_j \\sum^m_{i=1} |a_{ij}| $$\n",
    "\n",
    "i.e., it is the max of the sums of the absolute values of each column. Write a function that computes the $L^1$-norm using only loops. The function should use no special numpy functions except `np.abs()`."
   ]
  },
  {
   "cell_type": "code",
   "execution_count": 63,
   "metadata": {},
   "outputs": [],
   "source": [
    "# L1_norm = abs(x1)+abs(x2)+...+abs(xn)\n",
    "# column1 = A[:,0]\n",
    "# column2 = A[:,1]\n",
    "# column3 = A[:,2]\n",
    "\n",
    "def L1_norm(matrix):\n",
    "    n = 0\n",
    "    m =0\n",
    "    max = 0\n",
    "    find_max = [] # the list we want to find the max of\n",
    "    \n",
    "    while n < len(matrix[0]):\n",
    "        sum = 0\n",
    "        for i in matrix[:,n]:\n",
    "            sum += np.abs(i)\n",
    "        find_max.append(sum)\n",
    "        n += 1\n",
    "        \n",
    "    \n",
    "    while m < len(find_max):\n",
    "        for i in find_max:\n",
    "            if i > max:\n",
    "                max = i\n",
    "        m += 1\n",
    "    print(max)"
   ]
  },
  {
   "cell_type": "markdown",
   "metadata": {},
   "source": [
    "Check your result against NumPy's `la.norm(A,1)` function for the following random matrix"
   ]
  },
  {
   "cell_type": "code",
   "execution_count": 64,
   "metadata": {},
   "outputs": [
    {
     "name": "stdout",
     "output_type": "stream",
     "text": [
      "2.0028692936404258\n"
     ]
    }
   ],
   "source": [
    "A = np.random.rand(3,4)\n",
    "\n",
    "L1_norm(A)"
   ]
  },
  {
   "cell_type": "code",
   "execution_count": 65,
   "metadata": {},
   "outputs": [
    {
     "data": {
      "text/plain": [
       "2.0028692936404258"
      ]
     },
     "execution_count": 65,
     "metadata": {},
     "output_type": "execute_result"
    }
   ],
   "source": [
    "la.norm(A,1)"
   ]
  },
  {
   "cell_type": "markdown",
   "metadata": {},
   "source": [
    "## Q2b\n",
    "\n",
    "The $L^\\infty$ norm is given by \n",
    "\n",
    "$$\\lVert A \\rVert_\\infty = \\max_i \\sum_{j=1}^n |a_{ij}|$$\n",
    "\n",
    "i.e., it is the max of the sums of the absolute values of each row. Write a function that computes the $L^\\infty$-norm using only loops and no special numpy functions."
   ]
  },
  {
   "cell_type": "code",
   "execution_count": 66,
   "metadata": {},
   "outputs": [],
   "source": [
    "# row1 = A[0,:]\n",
    "# row2 = A[1,:] ...etc.\n",
    "\n",
    "def L_inf_norm(matrix):\n",
    "    n = 0\n",
    "    find_max = [] # we want to find the max of this list\n",
    "    m = 0\n",
    "    max = 0\n",
    "    \n",
    "    while n < len(matrix):\n",
    "        sum = 0\n",
    "        for i in matrix[n,:]:\n",
    "            sum += abs(i)\n",
    "        find_max.append(sum)\n",
    "        n += 1\n",
    "        \n",
    "    while m < len(find_max):\n",
    "        for i in find_max:\n",
    "            if i > max:\n",
    "                max = i\n",
    "        m += 1\n",
    "    print(max)"
   ]
  },
  {
   "cell_type": "markdown",
   "metadata": {},
   "source": [
    "Check your result against NumPy's `la.norm(A,np.inf)` function for the following random matrix"
   ]
  },
  {
   "cell_type": "code",
   "execution_count": 67,
   "metadata": {},
   "outputs": [
    {
     "name": "stdout",
     "output_type": "stream",
     "text": [
      "2.163369825041647\n"
     ]
    }
   ],
   "source": [
    "A = np.random.rand(3,4)\n",
    "\n",
    "L_inf_norm(A)"
   ]
  },
  {
   "cell_type": "code",
   "execution_count": 68,
   "metadata": {},
   "outputs": [
    {
     "data": {
      "text/plain": [
       "2.163369825041647"
      ]
     },
     "execution_count": 68,
     "metadata": {},
     "output_type": "execute_result"
    }
   ],
   "source": [
    "la.norm(A, np.inf)"
   ]
  },
  {
   "cell_type": "markdown",
   "metadata": {},
   "source": [
    "# Question 3: ill-conditions systems of equations\n",
    "\n",
    "In this question you can use any of NumPy's functions.\n",
    "\n",
    "## Q3a\n",
    "\n",
    "Which of the following three matrices, $A1, A2, A3$, are ill-conditioned. State the reason for your conclusion."
   ]
  },
  {
   "cell_type": "code",
   "execution_count": 69,
   "metadata": {},
   "outputs": [],
   "source": [
    "A1 = np.array([[0.988746460106, 0.351486109477, 0.024911477532, 0.384039749683],\n",
    "       [0.282104657306, 0.239884151775, 0.36170151991 , 0.903082266861],\n",
    "       [0.59333290915 , 0.637178863968, 0.241229214635, 0.685595037901],\n",
    "       [0.013591747828, 0.917926970364, 0.458689093885, 0.157821121254]])\n",
    "\n",
    "A2 = np.array([[ 2.852416473483e-01,  3.803483118694e-01,  2.697704226632e-01,  6.810611849029e-01],\n",
    "       [ 6.622827828376e-01,  6.447943415836e-01,  4.387842058829e-01,  1.530575702376e+00],\n",
    "       [ 3.672130860703e-01,  8.309522079704e-01,  9.975487474007e-01,  5.678296337101e-01],\n",
    "       [ 4.036490000599e-01,  6.865978225967e-06,  8.788095913773e-01, -7.150472427928e-02]])\n",
    "\n",
    "A3 = np.array([[0.131923621844, 0.245316154195, 0.732362341613, 0.957047891764],\n",
    "       [0.91290446184 , 0.512312007959, 0.391938831444, 0.092509684772],\n",
    "       [0.648708523652, 0.608576675797, 0.576773587276, 0.065385122929],\n",
    "       [0.502955480393, 0.084082960221, 0.659487390444, 0.662958739412]])"
   ]
  },
  {
   "cell_type": "code",
   "execution_count": 70,
   "metadata": {},
   "outputs": [
    {
     "name": "stdout",
     "output_type": "stream",
     "text": [
      "Condition number for the matrix A1: 21.552466488381857\n",
      "Condition number for the matrix A2: 13334921820.764688\n",
      "Condition number for the matrix A3: 15.122449699410627\n"
     ]
    }
   ],
   "source": [
    "# The formula for the condition number based on the norm definition = la.norm(matrix,2)*la.norm(la.inv(matrix),2))\n",
    "\n",
    "A1_cond_no = la.norm(A1,2)*la.norm(la.inv(A1),2)\n",
    "A2_cond_no = la.norm(A2,2)*la.norm(la.inv(A2),2)\n",
    "A3_cond_no = la.norm(A3,2)*la.norm(la.inv(A3),2)\n",
    "\n",
    "print(\"Condition number for the matrix A1:\", A1_cond_no)\n",
    "print(\"Condition number for the matrix A2:\", A2_cond_no)\n",
    "print(\"Condition number for the matrix A3:\", A3_cond_no)"
   ]
  },
  {
   "cell_type": "code",
   "execution_count": 71,
   "metadata": {},
   "outputs": [],
   "source": [
    "# If a condition number is not much larger than 1, then the matrix is well-conditioned, meaning its inverse can be\n",
    "# computed with great accuracy.\n",
    "\n",
    "# If a condition number is very large, the matrix is said to be ill-conditioned.\n",
    "\n",
    "# As can be seen above, System 2 has a very large condition number, showing that this system is ill-conditioned."
   ]
  },
  {
   "cell_type": "markdown",
   "metadata": {},
   "source": [
    "# Q3b\n",
    "\n",
    "With $b = [1,2,3,4]$ and $\\delta b = [0.1,0,0,0]$ for $A2$ and $A3$ calculate the percentage change in $x$ due to a small change in $b$, i.e., calculate \n",
    "\n",
    "$$100\\times\\frac{\\lVert \\delta x_i\\rVert_2}{\\lVert x_i \\rVert_2}\\quad\\text{and}\\quad 100\\times\\frac{\\lVert \\delta b\\rVert_2}{\\lVert b \\rVert_2}$$\n",
    "\n",
    "where $(x_i+\\delta x_i)  = A_i^{-1}(b+\\delta b)$ and $i\\in\\{2,3\\}$."
   ]
  },
  {
   "cell_type": "code",
   "execution_count": 72,
   "metadata": {},
   "outputs": [],
   "source": [
    "def GaussianElimination(A, b):\n",
    "    n = A.shape[1]\n",
    "    \n",
    "    # Append the vector b as a column to the matrix A\n",
    "    A1 = np.c_[A,b]\n",
    "    \n",
    "    i = 0\n",
    "    while i < n - 1:\n",
    "        j = i+1\n",
    "        while j < n:\n",
    "            A1[j, i+1:] = A1[j, i+1:] - A1[i, i+1:]*A1[j,i]/A1[i,i]\n",
    "            j += 1\n",
    "        i += 1\n",
    "        \n",
    "    x = np.zeros(n)\n",
    "    \n",
    "    i = n-1\n",
    "    while i >= 0:\n",
    "        j = i\n",
    "        x[i] = A1[i,n]\n",
    "        while j < n-1:\n",
    "            x[i] -= A1[i,j+1]*x[j+1]\n",
    "            j += 1\n",
    "        x[i] = x[i]/A1[i,i]\n",
    "        i -= 1\n",
    "    \n",
    "    return x\n",
    "\n",
    "def L2Norm(v):\n",
    "    return la.norm(v,2)"
   ]
  },
  {
   "cell_type": "code",
   "execution_count": 73,
   "metadata": {},
   "outputs": [],
   "source": [
    "b = np.array([1,2,3,4])\n",
    "bp = np.array([1.1,2,3,4])\n",
    "\n",
    "x2 = GaussianElimination(A2,b)\n",
    "x2p = GaussianElimination(A2,bp)\n",
    "\n",
    "x3 = GaussianElimination(A3,b)\n",
    "x3p = GaussianElimination(A3,bp)"
   ]
  },
  {
   "cell_type": "code",
   "execution_count": 74,
   "metadata": {},
   "outputs": [
    {
     "name": "stdout",
     "output_type": "stream",
     "text": [
      "Change in b = 1.8257%\n",
      "Change in x2 = 512.62%\n",
      "Change in b = 1.8257%\n",
      "Change in x3 = 2.17%\n"
     ]
    }
   ],
   "source": [
    "print(\"Change in b = %.4f%%\" % (100*L2Norm(bp-b)/L2Norm(b)))\n",
    "print(\"Change in x2 = %.2f%%\" % (100*L2Norm(x2p-x2)/L2Norm(x2)))\n",
    "\n",
    "print(\"Change in b = %.4f%%\" % (100*L2Norm(bp-b)/L2Norm(b)))\n",
    "print(\"Change in x3 = %.2f%%\" % (100*L2Norm(x3p-x3)/L2Norm(x3)))"
   ]
  },
  {
   "cell_type": "markdown",
   "metadata": {},
   "source": [
    "Which system of equations is more sensitive to small changes in $b$? How could you have guessed this from the answer to the Q3a?"
   ]
  },
  {
   "cell_type": "code",
   "execution_count": 75,
   "metadata": {},
   "outputs": [],
   "source": [
    "# Answer here\n",
    "# System 2 is more sensitive to small changes in b, as can be seen above a small change in b results in a 512.62%\n",
    "# change in x2."
   ]
  },
  {
   "cell_type": "markdown",
   "metadata": {},
   "source": [
    "# Question 4: eigensystems\n",
    "\n",
    "In this question we look at finding eigenvalues and eigenvectors\n",
    "\n",
    "## Q4a\n",
    "\n",
    "You may use any of NumPy's functions for this sub-question.\n",
    "\n",
    "Find the eigenvalues and eigenvectors for the below matrix. Print out the eigenvalues sorted by descending value and explicitly show that eigenvalues/eigenvector pairs satisfy $Ax = \\lambda x$."
   ]
  },
  {
   "cell_type": "code",
   "execution_count": 76,
   "metadata": {},
   "outputs": [],
   "source": [
    "A = np.array([[1,4,5],[4,5,4],[6,7,9]])"
   ]
  },
  {
   "cell_type": "code",
   "execution_count": 77,
   "metadata": {},
   "outputs": [
    {
     "name": "stdout",
     "output_type": "stream",
     "text": [
      "[15.78569318  1.26595327 -2.05164645]\n"
     ]
    }
   ],
   "source": [
    "eigenSystem = la.eig(A)\n",
    "eigenValues = eigenSystem[0]\n",
    "eigenVectors = eigenSystem[1]\n",
    "\n",
    "i = eigenValues.argsort()[::-1]\n",
    "eigenValues = eigenValues[i]\n",
    "eigenVectors = eigenVectors[:,i]\n",
    "\n",
    "print(eigenValues)"
   ]
  },
  {
   "cell_type": "code",
   "execution_count": 78,
   "metadata": {},
   "outputs": [
    {
     "name": "stdout",
     "output_type": "stream",
     "text": [
      "[ -6.1962015   -7.01266016 -12.71289871]\n",
      "[ -6.1962015   -7.01266016 -12.71289871]\n"
     ]
    }
   ],
   "source": [
    "# Showing Ax = lambdax\n",
    "\n",
    "x = np.random.rand(3)\n",
    "\n",
    "print(np.dot(A,eigenSystem[1][:,0]))\n",
    "print(eigenSystem[0][0]*eigenSystem[1][:,0])"
   ]
  },
  {
   "cell_type": "markdown",
   "metadata": {},
   "source": [
    "# Q4b\n",
    "\n",
    "Without using NumPy's `la.eig()` (or similar functions), find the 4 eigenvalues and eigenvectors of the following matrix. Hint: Use the power method for the max eigenvalue (given below in `MaxEigenvalue`), the power method applied to the inverse for the smallest eigenvalue, and apply Hotelling's deflation twice to find the second and third eigenvalues/eigenvectors."
   ]
  },
  {
   "cell_type": "code",
   "execution_count": 79,
   "metadata": {},
   "outputs": [],
   "source": [
    "A = np.array([[1.935052353404, 0.887037260957, 1.534235483277, 1.370691224125],\n",
    "       [0.887037260957, 0.81275989158 , 0.610238622918, 0.999150521052],\n",
    "       [1.534235483277, 0.610238622918, 1.562260333538, 1.007843062517],\n",
    "       [1.370691224125, 0.999150521052, 1.007843062517, 1.813258814483]])"
   ]
  },
  {
   "cell_type": "code",
   "execution_count": 80,
   "metadata": {},
   "outputs": [],
   "source": [
    "# Max eigenvalue\n",
    "\n",
    "def MaxEigenvalue(A, err):\n",
    "    (m,n) = A.shape\n",
    "    if(m != n):\n",
    "        print(\"Matrix must be square\")\n",
    "        return\n",
    "    x = np.random.rand(m)\n",
    "    \n",
    "    lam = 0.1\n",
    "    lamprev = 1\n",
    "    while np.abs(1-lam/lamprev) > err:\n",
    "        p = np.dot(A,x)\n",
    "        lamprev = lam\n",
    "        lam = np.max(p)\n",
    "        x = p/lam\n",
    "        \n",
    "    x = x/la.norm(x)\n",
    "    return (lam,x)\n",
    "\n",
    "MaxEigen = MaxEigenvalue(A, 1e-14)"
   ]
  },
  {
   "cell_type": "code",
   "execution_count": 81,
   "metadata": {},
   "outputs": [],
   "source": [
    "# Min eigenvalue\n",
    "\n",
    "MinEigen = 1/MaxEigenvalue(la.inv(A), 1e-14)[0]"
   ]
  },
  {
   "cell_type": "code",
   "execution_count": 82,
   "metadata": {},
   "outputs": [],
   "source": [
    "# Hotelling's equation for the second largest eigenvalue\n",
    "\n",
    "l1 = MaxEigen[0]\n",
    "e1 = MaxEigen[1]\n",
    "\n",
    "B = A - l1*np.outer(e1,e1)\n",
    "\n",
    "lsecond = MaxEigenvalue(B, 1e-14)"
   ]
  },
  {
   "cell_type": "code",
   "execution_count": 83,
   "metadata": {},
   "outputs": [],
   "source": [
    "# Hotelling's equation a second time for the third largest eigenvalue\n",
    "\n",
    "l2 = lsecond[0]\n",
    "e2 = lsecond[1]\n",
    "\n",
    "C = B - l2*np.outer(e2,e2)\n",
    "\n",
    "lthird = MaxEigenvalue(C, 1e-14)"
   ]
  },
  {
   "cell_type": "code",
   "execution_count": 84,
   "metadata": {},
   "outputs": [
    {
     "name": "stdout",
     "output_type": "stream",
     "text": [
      "(4.9148044234997705, array([0.59947641, 0.33318806, 0.49528112, 0.53320761]))\n",
      "(0.85058153186663, array([-0.30724064,  0.3894447 , -0.58292464,  0.64353313]))\n",
      "(0.21512836395693558, array([ 0.3811686 ,  0.67389895, -0.34000478, -0.53382343]))\n",
      "0.14281707368166774\n"
     ]
    }
   ],
   "source": [
    "print(MaxEigen)\n",
    "print(lsecond)\n",
    "print(lthird)\n",
    "print(MinEigen)"
   ]
  },
  {
   "cell_type": "markdown",
   "metadata": {},
   "source": [
    "Check your answers against Numpy's results from `la.eig(A)`"
   ]
  },
  {
   "cell_type": "code",
   "execution_count": 85,
   "metadata": {},
   "outputs": [
    {
     "data": {
      "text/plain": [
       "(array([4.91480442, 0.85058153, 0.14281707, 0.21512836]),\n",
       " array([[ 0.59947641,  0.30724064, -0.63319959, -0.3811686 ],\n",
       "        [ 0.33318806, -0.3894447 ,  0.53214542, -0.67389895],\n",
       "        [ 0.49528112,  0.58292464,  0.54707607,  0.34000478],\n",
       "        [ 0.53320761, -0.64353313, -0.12879172,  0.53382343]]))"
      ]
     },
     "execution_count": 85,
     "metadata": {},
     "output_type": "execute_result"
    }
   ],
   "source": [
    "la.eig(A)"
   ]
  }
 ],
 "metadata": {
  "kernelspec": {
   "display_name": "Python 3",
   "language": "python",
   "name": "python3"
  },
  "language_info": {
   "codemirror_mode": {
    "name": "ipython",
    "version": 3
   },
   "file_extension": ".py",
   "mimetype": "text/x-python",
   "name": "python",
   "nbconvert_exporter": "python",
   "pygments_lexer": "ipython3",
   "version": "3.7.1"
  }
 },
 "nbformat": 4,
 "nbformat_minor": 2
}
