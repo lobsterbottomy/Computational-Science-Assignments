{
 "cells": [
  {
   "cell_type": "markdown",
   "metadata": {},
   "source": [
    "#  Assignment 5\n",
    "\n",
    "This assignment covers material on matrices, norms, condition numbers and eigensystems. The assignment is due by 5pm on Friday the 17th of April.\n",
    "\n",
    "The breakdown of the marks is as follows:\n",
    "\n",
    "Question 0 - [1 mark]  \n",
    "Question 1 - [7 marks]  \n",
    "Questino 2 - [6 marks]  \n",
    "Question 3 - [7 marks]  \n",
    "Question 4 - [9 marks]  "
   ]
  },
  {
   "cell_type": "markdown",
   "metadata": {},
   "source": [
    "# Question 0\n",
    "\n",
    "You should have saved this notebook to your ACM20030-Assignments folder. Now:\n",
    "- commit the notebook to your local repository\n",
    "- push the changes to the GitHub"
   ]
  },
  {
   "cell_type": "code",
   "execution_count": 2,
   "metadata": {},
   "outputs": [],
   "source": [
    "import numpy as np\n",
    "from numpy import linalg as la\n",
    "np.set_printoptions(linewidth=200)  # This stops line wrapping of larger matrices"
   ]
  },
  {
   "cell_type": "markdown",
   "metadata": {},
   "source": [
    "# Question 1 - practice manipulating arrays\n",
    "\n",
    "This questions asks you write a few functions for manipulating arrays of data"
   ]
  },
  {
   "cell_type": "markdown",
   "metadata": {},
   "source": [
    "## Q1 a\n",
    "\n",
    "Write a function that checks if a given $n\\times n$ matrix is symmetric. Use only loops and `.shape` function from numpy (do not use any other special numpy functions)."
   ]
  },
  {
   "cell_type": "code",
   "execution_count": 3,
   "metadata": {},
   "outputs": [],
   "source": [
    " def matrix_symmetry(matrix):\n",
    "        symmetric = True\n",
    "        for x in range(len(matrix)):\n",
    "            for y in range(len(matrix[x])):\n",
    "                if matrix[x][y] != matrix[y][x]:\n",
    "                    symmetric = False\n",
    "                    break # inner for loop\n",
    "            if not symmetric:\n",
    "                break # outer for loop\n",
    "        print(\"Is the matrix symmetric?\",symmetric)"
   ]
  },
  {
   "cell_type": "markdown",
   "metadata": {},
   "source": [
    "Test your function on the two matrices below"
   ]
  },
  {
   "cell_type": "code",
   "execution_count": 5,
   "metadata": {},
   "outputs": [],
   "source": [
    "A = np.random.rand(5,5)\n",
    "SymMatrix = (A + A.T)/2"
   ]
  },
  {
   "cell_type": "code",
   "execution_count": 6,
   "metadata": {},
   "outputs": [
    {
     "name": "stdout",
     "output_type": "stream",
     "text": [
      "Is the matrix symmetric? False\n"
     ]
    }
   ],
   "source": [
    "matrix_symmetry(A)"
   ]
  },
  {
   "cell_type": "code",
   "execution_count": 7,
   "metadata": {},
   "outputs": [
    {
     "name": "stdout",
     "output_type": "stream",
     "text": [
      "Is the matrix symmetric? True\n"
     ]
    }
   ],
   "source": [
    "matrix_symmetry(SymMatrix)"
   ]
  },
  {
   "cell_type": "markdown",
   "metadata": {},
   "source": [
    "## Q1 b\n",
    "\n",
    "Write a function to transpose a general $n\\times n$ matrix. Do this by writing loops and not using any special functions like `np.transpose()`, `A.T`, or any functions from any other library."
   ]
  },
  {
   "cell_type": "code",
   "execution_count": 80,
   "metadata": {},
   "outputs": [],
   "source": [
    "def transpose(matrix):\n",
    "    end_result = []\n",
    "    result = [[0 for y in range(len(matrix))] for x in range(len(matrix[0]))]\n",
    "            \n",
    "    for i in range(len(matrix)):\n",
    "        for j in range(len(matrix[0])):\n",
    "            result[j][i] = matrix[i][j]\n",
    "    \n",
    "    for r in result:\n",
    "        print(r)"
   ]
  },
  {
   "cell_type": "markdown",
   "metadata": {},
   "source": [
    "Check your code by transposing the below random matrix and checking that $A^T \\neq A$ and $(A^T)^T - A = 0$"
   ]
  },
  {
   "cell_type": "code",
   "execution_count": 81,
   "metadata": {
    "scrolled": false
   },
   "outputs": [
    {
     "name": "stdout",
     "output_type": "stream",
     "text": [
      "[0.3220330974014938, 0.3668787836833691, 0.5750901602743478, 0.3919550085891633, 0.6006723126684693, 0.5160360305407742]\n",
      "[0.6973918484063975, 0.6681853521213931, 0.5782961854579314, 0.42071011228747024, 0.6193116142937248, 0.6661005473607609]\n",
      "[0.8447998664829516, 0.8566102742882913, 0.9102589897074445, 0.646777904460942, 0.055156869030256295, 0.4604701639827511]\n",
      "[0.4415722356696281, 0.621782781251864, 0.2805708203253815, 0.7297060447835522, 0.17624142620401828, 0.49865089186493705]\n",
      "[0.8853277250406126, 0.5650719546083429, 0.27575620508158705, 0.3835907804998665, 0.38826034155356093, 0.09859204738199245]\n",
      "[0.40496789809388767, 0.8103955525873008, 0.0884876474262336, 0.9473915938439157, 0.7469130298811109, 0.09111314749515931]\n",
      "[0.3220330974014938, 0.3668787836833691, 0.5750901602743478, 0.3919550085891633, 0.6006723126684693, 0.5160360305407742]\n",
      "[0.6973918484063975, 0.6681853521213931, 0.5782961854579314, 0.42071011228747024, 0.6193116142937248, 0.6661005473607609]\n",
      "[0.8447998664829516, 0.8566102742882913, 0.9102589897074445, 0.646777904460942, 0.055156869030256295, 0.4604701639827511]\n",
      "[0.4415722356696281, 0.621782781251864, 0.2805708203253815, 0.7297060447835522, 0.17624142620401828, 0.49865089186493705]\n",
      "[0.8853277250406126, 0.5650719546083429, 0.27575620508158705, 0.3835907804998665, 0.38826034155356093, 0.09859204738199245]\n",
      "[0.40496789809388767, 0.8103955525873008, 0.0884876474262336, 0.9473915938439157, 0.7469130298811109, 0.09111314749515931]\n",
      "False, matrices are not the same\n",
      "[[0.3220331  0.69739185 0.84479987 0.44157224 0.88532773 0.4049679 ]\n",
      " [0.36687878 0.66818535 0.85661027 0.62178278 0.56507195 0.81039555]\n",
      " [0.57509016 0.57829619 0.91025899 0.28057082 0.27575621 0.08848765]\n",
      " [0.39195501 0.42071011 0.6467779  0.72970604 0.38359078 0.94739159]\n",
      " [0.60067231 0.61931161 0.05515687 0.17624143 0.38826034 0.74691303]\n",
      " [0.51603603 0.66610055 0.46047016 0.49865089 0.09859205 0.09111315]]\n",
      "[0.3220330974014938, 0.3668787836833691, 0.5750901602743478, 0.3919550085891633, 0.6006723126684693, 0.5160360305407742]\n",
      "[0.6973918484063975, 0.6681853521213931, 0.5782961854579314, 0.42071011228747024, 0.6193116142937248, 0.6661005473607609]\n",
      "[0.8447998664829516, 0.8566102742882913, 0.9102589897074445, 0.646777904460942, 0.055156869030256295, 0.4604701639827511]\n",
      "[0.4415722356696281, 0.621782781251864, 0.2805708203253815, 0.7297060447835522, 0.17624142620401828, 0.49865089186493705]\n",
      "[0.8853277250406126, 0.5650719546083429, 0.27575620508158705, 0.3835907804998665, 0.38826034155356093, 0.09859204738199245]\n",
      "[0.40496789809388767, 0.8103955525873008, 0.0884876474262336, 0.9473915938439157, 0.7469130298811109, 0.09111314749515931]\n"
     ]
    }
   ],
   "source": [
    "A = np.random.rand(6,6)\n",
    "\n",
    "if np.any(transpose(A)) == np.any(A):\n",
    "    print('True, matrices are the same')\n",
    "elif np.any(transpose(A)) != np.any(A):\n",
    "    print(\"False, matrices are not the same\")\n",
    "    \n",
    "print(A)\n",
    "transpose(A)"
   ]
  },
  {
   "cell_type": "markdown",
   "metadata": {},
   "source": [
    "## Q1c\n",
    "\n",
    "Write a function that finds the maximum entry in a matrix (where the matrix does not need to be square). Do this by writing loops and not using any special functions like `np.max` or any functions from any other library."
   ]
  },
  {
   "cell_type": "code",
   "execution_count": 146,
   "metadata": {},
   "outputs": [],
   "source": [
    "def max_matrix(my_matrix):\n",
    "\n",
    "    max = 0\n",
    "    n = 0\n",
    "    \n",
    "    while n < len(my_matrix):\n",
    "        for i in my_matrix:\n",
    "            for j in my_matrix[n]:\n",
    "                if j > max:\n",
    "                    max = j\n",
    "            n += 1\n",
    "\n",
    "            \n",
    "    return max"
   ]
  },
  {
   "cell_type": "markdown",
   "metadata": {},
   "source": [
    "Check your result by comparing to `np.max(A)` for the below random matrix"
   ]
  },
  {
   "cell_type": "code",
   "execution_count": 148,
   "metadata": {},
   "outputs": [
    {
     "data": {
      "text/plain": [
       "0.9665341269357532"
      ]
     },
     "execution_count": 148,
     "metadata": {},
     "output_type": "execute_result"
    }
   ],
   "source": [
    "A = np.random.rand(4,5)\n",
    "\n",
    "max_matrix(A)"
   ]
  },
  {
   "cell_type": "code",
   "execution_count": 149,
   "metadata": {},
   "outputs": [
    {
     "data": {
      "text/plain": [
       "0.9665341269357532"
      ]
     },
     "execution_count": 149,
     "metadata": {},
     "output_type": "execute_result"
    }
   ],
   "source": [
    "np.max(A)"
   ]
  },
  {
   "cell_type": "markdown",
   "metadata": {},
   "source": [
    "# Question 2:  matrix norms\n",
    "\n",
    "In the lectures we focused on the $L^2$-norm. We also briefly mentioned the $L^1$ and $L^\\infty$ norm. Let's look at calculating those as well for a general $m\\times n$ matrix."
   ]
  },
  {
   "cell_type": "markdown",
   "metadata": {},
   "source": [
    "# Q2a\n",
    "\n",
    "The $L^1$ norm is given by\n",
    "\n",
    "$$ \\lVert A \\rVert_1 = \\max_j \\sum^m_{i=1} |a_{ij}| $$\n",
    "\n",
    "i.e., it is the max of the sums of the absolute values of each column. Write a function that computes the $L^1$-norm using only loops. The function should use no special numpy functions except `np.abs()`."
   ]
  },
  {
   "cell_type": "code",
   "execution_count": 196,
   "metadata": {},
   "outputs": [],
   "source": [
    "# L1_norm = abs(x1)+abs(x2)+...+abs(xn)\n",
    "# column1 = A[:,0]\n",
    "# column2 = A[:,1]\n",
    "# column3 = A[:,2]\n",
    "\n",
    "def L1_norm(matrix):\n",
    "    n = 0\n",
    "    m =0\n",
    "    max = 0\n",
    "    find_max = [] # the list we want to find the max of\n",
    "    \n",
    "    while n < len(matrix[0]):\n",
    "        sum = 0\n",
    "        for i in matrix[:,n]:\n",
    "            sum += np.abs(i)\n",
    "        find_max.append(sum)\n",
    "        n += 1\n",
    "        \n",
    "    \n",
    "    while m < len(find_max):\n",
    "        for i in find_max:\n",
    "            if i > max:\n",
    "                max = i\n",
    "        m += 1\n",
    "    print(max)"
   ]
  },
  {
   "cell_type": "markdown",
   "metadata": {},
   "source": [
    "Check your result against NumPy's `la.norm(A,1)` function for the following random matrix"
   ]
  },
  {
   "cell_type": "code",
   "execution_count": 202,
   "metadata": {},
   "outputs": [
    {
     "name": "stdout",
     "output_type": "stream",
     "text": [
      "2.3168795616977427\n"
     ]
    }
   ],
   "source": [
    "A = np.random.rand(3,4)\n",
    "\n",
    "L1_norm(A)"
   ]
  },
  {
   "cell_type": "code",
   "execution_count": 203,
   "metadata": {},
   "outputs": [
    {
     "data": {
      "text/plain": [
       "2.3168795616977427"
      ]
     },
     "execution_count": 203,
     "metadata": {},
     "output_type": "execute_result"
    }
   ],
   "source": [
    "la.norm(A,1)"
   ]
  },
  {
   "cell_type": "markdown",
   "metadata": {},
   "source": [
    "## Q2b\n",
    "\n",
    "The $L^\\infty$ norm is given by \n",
    "\n",
    "$$\\lVert A \\rVert_\\infty = \\max_i \\sum_{j=1}^n |a_{ij}|$$\n",
    "\n",
    "i.e., it is the max of the sums of the absolute values of each row. Write a function that computes the $L^\\infty$-norm using only loops and no special numpy functions."
   ]
  },
  {
   "cell_type": "code",
   "execution_count": 207,
   "metadata": {},
   "outputs": [],
   "source": [
    "# row1 = A[0,:]\n",
    "# row2 = A[1,:] ...etc.\n",
    "\n",
    "def L_inf_norm(matrix):\n",
    "    n = 0\n",
    "    find_max = [] # we want to find the max of this list\n",
    "    m = 0\n",
    "    max = 0\n",
    "    \n",
    "    while n < len(matrix):\n",
    "        sum = 0\n",
    "        for i in matrix[n,:]:\n",
    "            sum += abs(i)\n",
    "        find_max.append(sum)\n",
    "        n += 1\n",
    "        \n",
    "    while m < len(find_max):\n",
    "        for i in find_max:\n",
    "            if i > max:\n",
    "                max = i\n",
    "        m += 1\n",
    "    print(max)"
   ]
  },
  {
   "cell_type": "markdown",
   "metadata": {},
   "source": [
    "Check your result against NumPy's `la.norm(A,np.inf)` function for the following random matrix"
   ]
  },
  {
   "cell_type": "code",
   "execution_count": 209,
   "metadata": {},
   "outputs": [
    {
     "name": "stdout",
     "output_type": "stream",
     "text": [
      "2.330912552141093\n"
     ]
    }
   ],
   "source": [
    "A = np.random.rand(3,4)\n",
    "\n",
    "L_inf_norm(A)"
   ]
  },
  {
   "cell_type": "code",
   "execution_count": 210,
   "metadata": {},
   "outputs": [
    {
     "data": {
      "text/plain": [
       "2.330912552141093"
      ]
     },
     "execution_count": 210,
     "metadata": {},
     "output_type": "execute_result"
    }
   ],
   "source": [
    "la.norm(A, np.inf)"
   ]
  },
  {
   "cell_type": "markdown",
   "metadata": {},
   "source": [
    "# Question 3: ill-conditions systems of equations\n",
    "\n",
    "In this question you can use any of NumPy's functions.\n",
    "\n",
    "## Q3a\n",
    "\n",
    "Which of the following three matrices, $A1, A2, A3$, are ill-conditioned. State the reason for your conclusion."
   ]
  },
  {
   "cell_type": "code",
   "execution_count": 241,
   "metadata": {},
   "outputs": [],
   "source": [
    "A1 = np.array([[0.988746460106, 0.351486109477, 0.024911477532, 0.384039749683],\n",
    "       [0.282104657306, 0.239884151775, 0.36170151991 , 0.903082266861],\n",
    "       [0.59333290915 , 0.637178863968, 0.241229214635, 0.685595037901],\n",
    "       [0.013591747828, 0.917926970364, 0.458689093885, 0.157821121254]])\n",
    "\n",
    "A2 = np.array([[ 2.852416473483e-01,  3.803483118694e-01,  2.697704226632e-01,  6.810611849029e-01],\n",
    "       [ 6.622827828376e-01,  6.447943415836e-01,  4.387842058829e-01,  1.530575702376e+00],\n",
    "       [ 3.672130860703e-01,  8.309522079704e-01,  9.975487474007e-01,  5.678296337101e-01],\n",
    "       [ 4.036490000599e-01,  6.865978225967e-06,  8.788095913773e-01, -7.150472427928e-02]])\n",
    "\n",
    "A3 = np.array([[0.131923621844, 0.245316154195, 0.732362341613, 0.957047891764],\n",
    "       [0.91290446184 , 0.512312007959, 0.391938831444, 0.092509684772],\n",
    "       [0.648708523652, 0.608576675797, 0.576773587276, 0.065385122929],\n",
    "       [0.502955480393, 0.084082960221, 0.659487390444, 0.662958739412]])"
   ]
  },
  {
   "cell_type": "code",
   "execution_count": null,
   "metadata": {},
   "outputs": [],
   "source": []
  },
  {
   "cell_type": "markdown",
   "metadata": {},
   "source": [
    "# Q3b\n",
    "\n",
    "With $b = [1,2,3,4]$ and $\\delta b = [0.1,0,0,0]$ for $A2$ and $A3$ calculate the percentage change in $x$ due to a small change in $b$, i.e., calculate \n",
    "\n",
    "$$100\\times\\frac{\\lVert \\delta x_i\\rVert_2}{\\lVert x_i \\rVert_2}\\quad\\text{and}\\quad 100\\times\\frac{\\lVert \\delta b\\rVert_2}{\\lVert b \\rVert_2}$$\n",
    "\n",
    "where $(x_i+\\delta x_i)  = A_i^{-1}(b+\\delta b)$ and $i\\in\\{2,3\\}$."
   ]
  },
  {
   "cell_type": "code",
   "execution_count": 243,
   "metadata": {},
   "outputs": [],
   "source": [
    "def GaussianElimination(A, b):\n",
    "    n = A.shape[1]\n",
    "    \n",
    "    # Append the vector b as a column to the matrix A\n",
    "    A1 = np.c_[A,b]\n",
    "    \n",
    "    i = 0\n",
    "    while i < n - 1:\n",
    "        j = i+1\n",
    "        while j < n:\n",
    "            A1[j, i+1:] = A1[j, i+1:] - A1[i, i+1:]*A1[j,i]/A1[i,i]\n",
    "            j += 1\n",
    "        i += 1\n",
    "        \n",
    "    x = np.zeros(n)\n",
    "    \n",
    "    i = n-1\n",
    "    while i >= 0:\n",
    "        j = i\n",
    "        x[i] = A1[i,n]\n",
    "        while j < n-1:\n",
    "            x[i] -= A1[i,j+1]*x[j+1]\n",
    "            j += 1\n",
    "        x[i] = x[i]/A1[i,i]\n",
    "        i -= 1\n",
    "    \n",
    "    return x\n",
    "\n",
    "def L2Norm(v):\n",
    "    return la.norm(v,2)"
   ]
  },
  {
   "cell_type": "code",
   "execution_count": 248,
   "metadata": {},
   "outputs": [],
   "source": [
    "b = np.array([1,2,3,4])\n",
    "bp = np.array([1.1,2,3,4])\n",
    "\n",
    "x2 = GaussianElimination(A2,b)\n",
    "x2p = GaussianElimination(A2,pb)\n",
    "\n",
    "x3 = GaussianElimination(A3,b)\n",
    "x3p = GaussianElimination(A3,pb)"
   ]
  },
  {
   "cell_type": "code",
   "execution_count": 250,
   "metadata": {},
   "outputs": [
    {
     "name": "stdout",
     "output_type": "stream",
     "text": [
      "Change in b = 1.8257%\n",
      "Change in x2 = 512.62%\n",
      "Change in b = 1.8257%\n",
      "Change in x3 = 2.17%\n"
     ]
    }
   ],
   "source": [
    "print(\"Change in b = %.4f%%\" % (100*L2Norm(bp-b)/L2Norm(b)))\n",
    "print(\"Change in x2 = %.2f%%\" % (100*L2Norm(x2p-x2)/L2Norm(x2)))\n",
    "\n",
    "print(\"Change in b = %.4f%%\" % (100*L2Norm(bp-b)/L2Norm(b)))\n",
    "print(\"Change in x3 = %.2f%%\" % (100*L2Norm(x3p-x3)/L2Norm(x3)))"
   ]
  },
  {
   "cell_type": "markdown",
   "metadata": {},
   "source": [
    "Which system of equations is more sensitive to small changes in $b$? How could you have guessed this from the answer to the Q3a?"
   ]
  },
  {
   "cell_type": "code",
   "execution_count": 10,
   "metadata": {},
   "outputs": [],
   "source": [
    "# Answer here\n",
    "# System 2 is more sensitive to small changes in b, as can be seen above a small change in b results in a 512.62%\n",
    "# change in x2."
   ]
  },
  {
   "cell_type": "markdown",
   "metadata": {},
   "source": [
    "# Question 4: eigensystems\n",
    "\n",
    "In this question we look at finding eigenvalues and eigenvectors\n",
    "\n",
    "## Q4a\n",
    "\n",
    "You may use any of NumPy's functions for this sub-question.\n",
    "\n",
    "Find the eigenvalues and eigenvectors for the below matrix. Print out the eigenvalues sorted by descending value and explicitly show that eigenvalues/eigenvector pairs satisfy $Ax = \\lambda x$."
   ]
  },
  {
   "cell_type": "code",
   "execution_count": 50,
   "metadata": {},
   "outputs": [],
   "source": [
    "A = np.array([[1,4,5],[4,5,4],[6,7,9]])"
   ]
  },
  {
   "cell_type": "code",
   "execution_count": null,
   "metadata": {},
   "outputs": [],
   "source": []
  },
  {
   "cell_type": "markdown",
   "metadata": {},
   "source": [
    "# Q4b\n",
    "\n",
    "Without using NumPy's `la.eig()` (or similar functions), find the 4 eigenvalues and eigenvectors of the following matrix. Hint: Use the power method for the max eigenvalue (given below in `MaxEigenvalue`), the power method applied to the inverse for the smallest eigenvalue, and apply Hotelling's deflation twice to find the second and third eigenvalues/eigenvectors."
   ]
  },
  {
   "cell_type": "code",
   "execution_count": 52,
   "metadata": {},
   "outputs": [],
   "source": [
    "A = np.array([[1.935052353404, 0.887037260957, 1.534235483277, 1.370691224125],\n",
    "       [0.887037260957, 0.81275989158 , 0.610238622918, 0.999150521052],\n",
    "       [1.534235483277, 0.610238622918, 1.562260333538, 1.007843062517],\n",
    "       [1.370691224125, 0.999150521052, 1.007843062517, 1.813258814483]])"
   ]
  },
  {
   "cell_type": "code",
   "execution_count": 53,
   "metadata": {},
   "outputs": [],
   "source": [
    "def MaxEigenvalue(A, err):\n",
    "    (m,n) = A.shape\n",
    "    if(m != n):\n",
    "        print(\"Matrix must be square\")\n",
    "        return\n",
    "    x = np.random.rand(m)\n",
    "    \n",
    "    lam = 0.1\n",
    "    lamprev = 1\n",
    "    while np.abs(1-lam/lamprev) > err:\n",
    "        p = np.dot(A,x)\n",
    "        lamprev = lam\n",
    "        lam = np.max(p)\n",
    "        x = p/lam\n",
    "        \n",
    "    x = x/la.norm(x)\n",
    "    return (lam,x)"
   ]
  },
  {
   "cell_type": "code",
   "execution_count": null,
   "metadata": {},
   "outputs": [],
   "source": []
  },
  {
   "cell_type": "markdown",
   "metadata": {},
   "source": [
    "Check your answers against Numpy's results from `la.eig(A)`"
   ]
  },
  {
   "cell_type": "code",
   "execution_count": null,
   "metadata": {},
   "outputs": [],
   "source": []
  }
 ],
 "metadata": {
  "kernelspec": {
   "display_name": "Python 3",
   "language": "python",
   "name": "python3"
  },
  "language_info": {
   "codemirror_mode": {
    "name": "ipython",
    "version": 3
   },
   "file_extension": ".py",
   "mimetype": "text/x-python",
   "name": "python",
   "nbconvert_exporter": "python",
   "pygments_lexer": "ipython3",
   "version": "3.7.1"
  }
 },
 "nbformat": 4,
 "nbformat_minor": 2
}
