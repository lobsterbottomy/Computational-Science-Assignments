{
 "cells": [
  {
   "cell_type": "code",
   "execution_count": 4,
   "metadata": {},
   "outputs": [],
   "source": [
    "#Question 0\n",
    "import numpy as np\n",
    "import matplotlib.pyplot as plt"
   ]
  },
  {
   "cell_type": "code",
   "execution_count": 2,
   "metadata": {},
   "outputs": [],
   "source": [
    "#Question 1a\n",
    "def VectorLength(x,y):\n",
    "    length = np.sqrt((x)**2 + (y)**2)\n",
    "    return length"
   ]
  },
  {
   "cell_type": "code",
   "execution_count": 3,
   "metadata": {},
   "outputs": [
    {
     "name": "stdout",
     "output_type": "stream",
     "text": [
      "7.810249675906654\n",
      "5.0990195135927845\n"
     ]
    }
   ],
   "source": [
    "#Question 1b\n",
    "print(VectorLength(5,6))\n",
    "print(VectorLength(-1,5))"
   ]
  },
  {
   "cell_type": "code",
   "execution_count": 4,
   "metadata": {},
   "outputs": [
    {
     "name": "stdout",
     "output_type": "stream",
     "text": [
      "Sin(1) =  0.841\n"
     ]
    }
   ],
   "source": [
    "#Question 1c\n",
    "print(\"Sin(1) = \", round(np.sin(1),3))"
   ]
  },
  {
   "cell_type": "code",
   "execution_count": 5,
   "metadata": {},
   "outputs": [],
   "source": [
    "#Question 2\n",
    "#Function to check if a number is prime\n",
    "\n",
    "def IsPrime(n):\n",
    "    i = 2\n",
    "    while i < np.sqrt(n):\n",
    "        # For each i check if it divides n\n",
    "        if (n % i == 0):\n",
    "            return 0\n",
    "        i += 1\n",
    "    #If no divisors are found, the number is prime\n",
    "    return 1"
   ]
  },
  {
   "cell_type": "code",
   "execution_count": 7,
   "metadata": {},
   "outputs": [
    {
     "name": "stdout",
     "output_type": "stream",
     "text": [
      "1\n",
      "1\n",
      "1\n",
      "1\n",
      "1\n",
      "0\n",
      "1\n",
      "0\n",
      "1\n",
      "0\n"
     ]
    }
   ],
   "source": [
    "#Question 2a\n",
    "\n",
    "for i in range(1,11):\n",
    "    print(IsPrime(i))"
   ]
  },
  {
   "cell_type": "code",
   "execution_count": 15,
   "metadata": {},
   "outputs": [],
   "source": [
    "#Question 2c\n",
    "\n",
    "def IsPrime(n):\n",
    "    if n == 1:\n",
    "        return 1\n",
    "    i = 2\n",
    "    #Instead of dividing by comparing i to the square root of n we're comparing n to i\n",
    "    while i < n:\n",
    "        # For each i check if it divides n\n",
    "        if (n % i == 0):\n",
    "            return 0\n",
    "        i += 1\n",
    "    #If no divisors are found, the number is prime\n",
    "    return 1"
   ]
  },
  {
   "cell_type": "code",
   "execution_count": null,
   "metadata": {},
   "outputs": [],
   "source": []
  }
 ],
 "metadata": {
  "kernelspec": {
   "display_name": "Python 3",
   "language": "python",
   "name": "python3"
  },
  "language_info": {
   "codemirror_mode": {
    "name": "ipython",
    "version": 3
   },
   "file_extension": ".py",
   "mimetype": "text/x-python",
   "name": "python",
   "nbconvert_exporter": "python",
   "pygments_lexer": "ipython3",
   "version": "3.7.1"
  }
 },
 "nbformat": 4,
 "nbformat_minor": 2
}
